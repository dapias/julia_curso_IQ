{
 "cells": [
  {
   "cell_type": "markdown",
   "metadata": {},
   "source": [
    "Recordemos que un polinomio de segundo grado es de la forma \n",
    "\n",
    "$$p(x) = ax^2 + bx + c$$"
   ]
  },
  {
   "cell_type": "code",
   "execution_count": 7,
   "metadata": {
    "collapsed": false
   },
   "outputs": [],
   "source": [
    "type Poli2Grado{T<:Real}\n",
    "    a::T\n",
    "    b::T\n",
    "    c::T\n",
    "end"
   ]
  },
  {
   "cell_type": "code",
   "execution_count": 8,
   "metadata": {
    "collapsed": false
   },
   "outputs": [
    {
     "data": {
      "text/plain": [
       "Poli2Grado{Float64}(1.0,2.0,-1.0)"
      ]
     },
     "execution_count": 8,
     "metadata": {},
     "output_type": "execute_result"
    }
   ],
   "source": [
    "p1 = Poli2Grado(1.0,2.,-1.)"
   ]
  },
  {
   "cell_type": "code",
   "execution_count": 9,
   "metadata": {
    "collapsed": false
   },
   "outputs": [
    {
     "data": {
      "text/plain": [
       "evaluapolinomio (generic function with 1 method)"
      ]
     },
     "execution_count": 9,
     "metadata": {},
     "output_type": "execute_result"
    }
   ],
   "source": [
    "function evaluapolinomio(x::Real, p::Poli2Grado)\n",
    "    p.a*x^2 + p.b*x + p.c\n",
    "end"
   ]
  },
  {
   "cell_type": "code",
   "execution_count": 10,
   "metadata": {
    "collapsed": false
   },
   "outputs": [
    {
     "data": {
      "text/plain": [
       "Poli2Grado{Float64}(1.0,1.0,0.0)"
      ]
     },
     "execution_count": 10,
     "metadata": {},
     "output_type": "execute_result"
    }
   ],
   "source": [
    "polinomio = Poli2Grado(1.0,1.0,0.0)"
   ]
  },
  {
   "cell_type": "code",
   "execution_count": 11,
   "metadata": {
    "collapsed": false
   },
   "outputs": [
    {
     "data": {
      "text/plain": [
       "2.0"
      ]
     },
     "execution_count": 11,
     "metadata": {},
     "output_type": "execute_result"
    }
   ],
   "source": [
    "evaluapolinomio(1.0, polinomio)"
   ]
  },
  {
   "cell_type": "code",
   "execution_count": 12,
   "metadata": {
    "collapsed": false
   },
   "outputs": [
    {
     "data": {
      "text/plain": [
       "5.0"
      ]
     },
     "execution_count": 12,
     "metadata": {},
     "output_type": "execute_result"
    }
   ],
   "source": [
    "+(2.0,3.0)"
   ]
  },
  {
   "cell_type": "code",
   "execution_count": 13,
   "metadata": {
    "collapsed": false
   },
   "outputs": [
    {
     "data": {
      "text/plain": [
       "5.0"
      ]
     },
     "execution_count": 13,
     "metadata": {},
     "output_type": "execute_result"
    }
   ],
   "source": [
    "2.0 + 3.0"
   ]
  },
  {
   "cell_type": "code",
   "execution_count": 34,
   "metadata": {
    "collapsed": true
   },
   "outputs": [],
   "source": [
    "import Base.+, Base.-, Base.*"
   ]
  },
  {
   "cell_type": "code",
   "execution_count": 35,
   "metadata": {
    "collapsed": false
   },
   "outputs": [],
   "source": [
    "#+(p1::Poli2Grado, p2::Poli2Grado) = Poli2Grado(p1.a+p2.a, p1.b + p2.b, p1.c + p2.c)\n",
    "#-(p1::Poli2Grado, p2::Poli2Grado) = Poli2Grado(p1.a-p2.a, p1.b - p2.b, p1.c - p2.c)\n"
   ]
  },
  {
   "cell_type": "code",
   "execution_count": 44,
   "metadata": {
    "collapsed": false
   },
   "outputs": [
    {
     "data": {
      "text/plain": [
       "Poli2Grado{Float64}(2.0,2.0,0.0)"
      ]
     },
     "execution_count": 44,
     "metadata": {},
     "output_type": "execute_result"
    }
   ],
   "source": [
    "polinomio + polinomio"
   ]
  },
  {
   "cell_type": "code",
   "execution_count": null,
   "metadata": {
    "collapsed": true
   },
   "outputs": [],
   "source": [
    "a + b\n",
    "+(a, b)"
   ]
  },
  {
   "cell_type": "code",
   "execution_count": 42,
   "metadata": {
    "collapsed": false
   },
   "outputs": [],
   "source": [
    "for o in (:+,:-)\n",
    "   eval(:($o(p1::Poli2Grado, p2::Poli2Grado) = Poli2Grado($o(p1.a,p2.a), \n",
    "    $o(p1.b,p2.b), $o(p1.c,p2.c)))) \n",
    "end\n",
    "    "
   ]
  },
  {
   "cell_type": "code",
   "execution_count": 24,
   "metadata": {
    "collapsed": false
   },
   "outputs": [
    {
     "data": {
      "text/html": [
       "205 methods for generic function <b>-</b>:<ul><li> -(x::<b>Bool</b>) at <a href=\"https://github.com/JuliaLang/julia/tree/03c072d725b6e2798347d00c9b46a3965edddaf8/base/bool.jl#L34\" target=\"_blank\">bool.jl:34</a><li> -(x::<b>Bool</b>, y::<b>Bool</b>) at <a href=\"https://github.com/JuliaLang/julia/tree/03c072d725b6e2798347d00c9b46a3965edddaf8/base/bool.jl#L37\" target=\"_blank\">bool.jl:37</a><li> -(x::<b>Int8</b>) at <a href=\"https://github.com/JuliaLang/julia/tree/03c072d725b6e2798347d00c9b46a3965edddaf8/base/int.jl#L13\" target=\"_blank\">int.jl:13</a><li> -(x::<b>Int8</b>, y::<b>Int8</b>) at <a href=\"https://github.com/JuliaLang/julia/tree/03c072d725b6e2798347d00c9b46a3965edddaf8/base/int.jl#L18\" target=\"_blank\">int.jl:18</a><li> -(x::<b>UInt8</b>) at <a href=\"https://github.com/JuliaLang/julia/tree/03c072d725b6e2798347d00c9b46a3965edddaf8/base/int.jl#L13\" target=\"_blank\">int.jl:13</a><li> -(x::<b>UInt8</b>, y::<b>UInt8</b>) at <a href=\"https://github.com/JuliaLang/julia/tree/03c072d725b6e2798347d00c9b46a3965edddaf8/base/int.jl#L18\" target=\"_blank\">int.jl:18</a><li> -(x::<b>Int16</b>) at <a href=\"https://github.com/JuliaLang/julia/tree/03c072d725b6e2798347d00c9b46a3965edddaf8/base/int.jl#L13\" target=\"_blank\">int.jl:13</a><li> -(x::<b>Int16</b>, y::<b>Int16</b>) at <a href=\"https://github.com/JuliaLang/julia/tree/03c072d725b6e2798347d00c9b46a3965edddaf8/base/int.jl#L18\" target=\"_blank\">int.jl:18</a><li> -(x::<b>UInt16</b>) at <a href=\"https://github.com/JuliaLang/julia/tree/03c072d725b6e2798347d00c9b46a3965edddaf8/base/int.jl#L13\" target=\"_blank\">int.jl:13</a><li> -(x::<b>UInt16</b>, y::<b>UInt16</b>) at <a href=\"https://github.com/JuliaLang/julia/tree/03c072d725b6e2798347d00c9b46a3965edddaf8/base/int.jl#L18\" target=\"_blank\">int.jl:18</a><li> -(x::<b>Int32</b>) at <a href=\"https://github.com/JuliaLang/julia/tree/03c072d725b6e2798347d00c9b46a3965edddaf8/base/int.jl#L13\" target=\"_blank\">int.jl:13</a><li> -(x::<b>Int32</b>, y::<b>Int32</b>) at <a href=\"https://github.com/JuliaLang/julia/tree/03c072d725b6e2798347d00c9b46a3965edddaf8/base/int.jl#L18\" target=\"_blank\">int.jl:18</a><li> -(x::<b>UInt32</b>) at <a href=\"https://github.com/JuliaLang/julia/tree/03c072d725b6e2798347d00c9b46a3965edddaf8/base/int.jl#L13\" target=\"_blank\">int.jl:13</a><li> -(x::<b>UInt32</b>, y::<b>UInt32</b>) at <a href=\"https://github.com/JuliaLang/julia/tree/03c072d725b6e2798347d00c9b46a3965edddaf8/base/int.jl#L18\" target=\"_blank\">int.jl:18</a><li> -(x::<b>Int64</b>) at <a href=\"https://github.com/JuliaLang/julia/tree/03c072d725b6e2798347d00c9b46a3965edddaf8/base/int.jl#L13\" target=\"_blank\">int.jl:13</a><li> -(x::<b>Int64</b>, y::<b>Int64</b>) at <a href=\"https://github.com/JuliaLang/julia/tree/03c072d725b6e2798347d00c9b46a3965edddaf8/base/int.jl#L18\" target=\"_blank\">int.jl:18</a><li> -(x::<b>UInt64</b>) at <a href=\"https://github.com/JuliaLang/julia/tree/03c072d725b6e2798347d00c9b46a3965edddaf8/base/int.jl#L13\" target=\"_blank\">int.jl:13</a><li> -(x::<b>UInt64</b>, y::<b>UInt64</b>) at <a href=\"https://github.com/JuliaLang/julia/tree/03c072d725b6e2798347d00c9b46a3965edddaf8/base/int.jl#L18\" target=\"_blank\">int.jl:18</a><li> -(x::<b>Int128</b>) at <a href=\"https://github.com/JuliaLang/julia/tree/03c072d725b6e2798347d00c9b46a3965edddaf8/base/int.jl#L13\" target=\"_blank\">int.jl:13</a><li> -(x::<b>Int128</b>, y::<b>Int128</b>) at <a href=\"https://github.com/JuliaLang/julia/tree/03c072d725b6e2798347d00c9b46a3965edddaf8/base/int.jl#L18\" target=\"_blank\">int.jl:18</a><li> -(x::<b>UInt128</b>) at <a href=\"https://github.com/JuliaLang/julia/tree/03c072d725b6e2798347d00c9b46a3965edddaf8/base/int.jl#L13\" target=\"_blank\">int.jl:13</a><li> -(x::<b>UInt128</b>, y::<b>UInt128</b>) at <a href=\"https://github.com/JuliaLang/julia/tree/03c072d725b6e2798347d00c9b46a3965edddaf8/base/int.jl#L18\" target=\"_blank\">int.jl:18</a><li> -(x::<b>Float32</b>) at <a href=\"https://github.com/JuliaLang/julia/tree/03c072d725b6e2798347d00c9b46a3965edddaf8/base/float.jl#L204\" target=\"_blank\">float.jl:204</a><li> -(x::<b>Float64</b>) at <a href=\"https://github.com/JuliaLang/julia/tree/03c072d725b6e2798347d00c9b46a3965edddaf8/base/float.jl#L205\" target=\"_blank\">float.jl:205</a><li> -(x::<b>Float32</b>, y::<b>Float32</b>) at <a href=\"https://github.com/JuliaLang/julia/tree/03c072d725b6e2798347d00c9b46a3965edddaf8/base/float.jl#L209\" target=\"_blank\">float.jl:209</a><li> -(x::<b>Float64</b>, y::<b>Float64</b>) at <a href=\"https://github.com/JuliaLang/julia/tree/03c072d725b6e2798347d00c9b46a3965edddaf8/base/float.jl#L210\" target=\"_blank\">float.jl:210</a><li> -(z::<b>Complex{Bool}</b>, x::<b>Bool</b>) at <a href=\"https://github.com/JuliaLang/julia/tree/03c072d725b6e2798347d00c9b46a3965edddaf8/base/complex.jl#L121\" target=\"_blank\">complex.jl:121</a><li> -(z::<b>Complex{Bool}</b>, x::<b>Real</b>) at <a href=\"https://github.com/JuliaLang/julia/tree/03c072d725b6e2798347d00c9b46a3965edddaf8/base/complex.jl#L139\" target=\"_blank\">complex.jl:139</a><li> -(z::<b>Complex{T<:Real}</b>) at <a href=\"https://github.com/JuliaLang/julia/tree/03c072d725b6e2798347d00c9b46a3965edddaf8/base/complex.jl#L110\" target=\"_blank\">complex.jl:110</a><li> -(z::<b>Complex{T<:Real}</b>, w::<b>Complex{T<:Real}</b>) at <a href=\"https://github.com/JuliaLang/julia/tree/03c072d725b6e2798347d00c9b46a3965edddaf8/base/complex.jl#L112\" target=\"_blank\">complex.jl:112</a><li> -(x::<b>Bool</b>, z::<b>Complex{Bool}</b>) at <a href=\"https://github.com/JuliaLang/julia/tree/03c072d725b6e2798347d00c9b46a3965edddaf8/base/complex.jl#L120\" target=\"_blank\">complex.jl:120</a><li> -(x::<b>Bool</b>, z::<b>Complex{T<:Real}</b>) at <a href=\"https://github.com/JuliaLang/julia/tree/03c072d725b6e2798347d00c9b46a3965edddaf8/base/complex.jl#L127\" target=\"_blank\">complex.jl:127</a><li> -(z::<b>Complex{T<:Real}</b>, x::<b>Bool</b>) at <a href=\"https://github.com/JuliaLang/julia/tree/03c072d725b6e2798347d00c9b46a3965edddaf8/base/complex.jl#L128\" target=\"_blank\">complex.jl:128</a><li> -<i>{T<:Signed}</i>(x::<b>Rational{T<:Signed}</b>) at <a href=\"https://github.com/JuliaLang/julia/tree/03c072d725b6e2798347d00c9b46a3965edddaf8/base/rational.jl#L167\" target=\"_blank\">rational.jl:167</a><li> -<i>{T<:Unsigned}</i>(x::<b>Rational{T<:Unsigned}</b>) at <a href=\"https://github.com/JuliaLang/julia/tree/03c072d725b6e2798347d00c9b46a3965edddaf8/base/rational.jl#L171\" target=\"_blank\">rational.jl:171</a><li> -(x::<b>Rational{T<:Integer}</b>) at <a href=\"https://github.com/JuliaLang/julia/tree/03c072d725b6e2798347d00c9b46a3965edddaf8/base/rational.jl#L165\" target=\"_blank\">rational.jl:165</a><li> -(x::<b>Float16</b>) at <a href=\"https://github.com/JuliaLang/julia/tree/03c072d725b6e2798347d00c9b46a3965edddaf8/base/float16.jl#L133\" target=\"_blank\">float16.jl:133</a><li> -(x::<b>BigInt</b>) at <a href=\"https://github.com/JuliaLang/julia/tree/03c072d725b6e2798347d00c9b46a3965edddaf8/base/gmp.jl#L342\" target=\"_blank\">gmp.jl:342</a><li> -(x::<b>BigFloat</b>) at <a href=\"https://github.com/JuliaLang/julia/tree/03c072d725b6e2798347d00c9b46a3965edddaf8/base/mpfr.jl#L403\" target=\"_blank\">mpfr.jl:403</a><li> -(x::<b>Irrational{sym}</b>) at <a href=\"https://github.com/JuliaLang/julia/tree/03c072d725b6e2798347d00c9b46a3965edddaf8/base/irrationals.jl#L70\" target=\"_blank\">irrationals.jl:70</a><li> -(x::<b>Real</b>, z::<b>Complex{Bool}</b>) at <a href=\"https://github.com/JuliaLang/julia/tree/03c072d725b6e2798347d00c9b46a3965edddaf8/base/complex.jl#L136\" target=\"_blank\">complex.jl:136</a><li> -(x::<b>Real</b>, z::<b>Complex{T<:Real}</b>) at <a href=\"https://github.com/JuliaLang/julia/tree/03c072d725b6e2798347d00c9b46a3965edddaf8/base/complex.jl#L148\" target=\"_blank\">complex.jl:148</a><li> -(z::<b>Complex{T<:Real}</b>, x::<b>Real</b>) at <a href=\"https://github.com/JuliaLang/julia/tree/03c072d725b6e2798347d00c9b46a3965edddaf8/base/complex.jl#L151\" target=\"_blank\">complex.jl:151</a><li> -(x::<b>Rational{T<:Integer}</b>, y::<b>Rational{T<:Integer}</b>) at <a href=\"https://github.com/JuliaLang/julia/tree/03c072d725b6e2798347d00c9b46a3965edddaf8/base/rational.jl#L179\" target=\"_blank\">rational.jl:179</a><li> -(a::<b>Float16</b>, b::<b>Float16</b>) at <a href=\"https://github.com/JuliaLang/julia/tree/03c072d725b6e2798347d00c9b46a3965edddaf8/base/float16.jl#L136\" target=\"_blank\">float16.jl:136</a><li> -(x::<b>BigInt</b>, y::<b>BigInt</b>) at <a href=\"https://github.com/JuliaLang/julia/tree/03c072d725b6e2798347d00c9b46a3965edddaf8/base/gmp.jl#L256\" target=\"_blank\">gmp.jl:256</a><li> -(x::<b>BigInt</b>, c::<b>Union{UInt16,UInt32,UInt64,UInt8}</b>) at <a href=\"https://github.com/JuliaLang/julia/tree/03c072d725b6e2798347d00c9b46a3965edddaf8/base/gmp.jl#L311\" target=\"_blank\">gmp.jl:311</a><li> -(c::<b>Union{UInt16,UInt32,UInt64,UInt8}</b>, x::<b>BigInt</b>) at <a href=\"https://github.com/JuliaLang/julia/tree/03c072d725b6e2798347d00c9b46a3965edddaf8/base/gmp.jl#L316\" target=\"_blank\">gmp.jl:316</a><li> -(x::<b>BigInt</b>, c::<b>Union{Int16,Int32,Int64,Int8}</b>) at <a href=\"https://github.com/JuliaLang/julia/tree/03c072d725b6e2798347d00c9b46a3965edddaf8/base/gmp.jl#L322\" target=\"_blank\">gmp.jl:322</a><li> -(c::<b>Union{Int16,Int32,Int64,Int8}</b>, x::<b>BigInt</b>) at <a href=\"https://github.com/JuliaLang/julia/tree/03c072d725b6e2798347d00c9b46a3965edddaf8/base/gmp.jl#L323\" target=\"_blank\">gmp.jl:323</a><li> -(x::<b>BigFloat</b>, y::<b>BigFloat</b>) at <a href=\"https://github.com/JuliaLang/julia/tree/03c072d725b6e2798347d00c9b46a3965edddaf8/base/mpfr.jl#L251\" target=\"_blank\">mpfr.jl:251</a><li> -(x::<b>BigFloat</b>, c::<b>Union{UInt16,UInt32,UInt64,UInt8}</b>) at <a href=\"https://github.com/JuliaLang/julia/tree/03c072d725b6e2798347d00c9b46a3965edddaf8/base/mpfr.jl#L258\" target=\"_blank\">mpfr.jl:258</a><li> -(c::<b>Union{UInt16,UInt32,UInt64,UInt8}</b>, x::<b>BigFloat</b>) at <a href=\"https://github.com/JuliaLang/julia/tree/03c072d725b6e2798347d00c9b46a3965edddaf8/base/mpfr.jl#L263\" target=\"_blank\">mpfr.jl:263</a><li> -(x::<b>BigFloat</b>, c::<b>Union{Int16,Int32,Int64,Int8}</b>) at <a href=\"https://github.com/JuliaLang/julia/tree/03c072d725b6e2798347d00c9b46a3965edddaf8/base/mpfr.jl#L270\" target=\"_blank\">mpfr.jl:270</a><li> -(c::<b>Union{Int16,Int32,Int64,Int8}</b>, x::<b>BigFloat</b>) at <a href=\"https://github.com/JuliaLang/julia/tree/03c072d725b6e2798347d00c9b46a3965edddaf8/base/mpfr.jl#L275\" target=\"_blank\">mpfr.jl:275</a><li> -(x::<b>BigFloat</b>, c::<b>Union{Float16,Float32,Float64}</b>) at <a href=\"https://github.com/JuliaLang/julia/tree/03c072d725b6e2798347d00c9b46a3965edddaf8/base/mpfr.jl#L282\" target=\"_blank\">mpfr.jl:282</a><li> -(c::<b>Union{Float16,Float32,Float64}</b>, x::<b>BigFloat</b>) at <a href=\"https://github.com/JuliaLang/julia/tree/03c072d725b6e2798347d00c9b46a3965edddaf8/base/mpfr.jl#L287\" target=\"_blank\">mpfr.jl:287</a><li> -(x::<b>BigFloat</b>, c::<b>BigInt</b>) at <a href=\"https://github.com/JuliaLang/julia/tree/03c072d725b6e2798347d00c9b46a3965edddaf8/base/mpfr.jl#L294\" target=\"_blank\">mpfr.jl:294</a><li> -(c::<b>BigInt</b>, x::<b>BigFloat</b>) at <a href=\"https://github.com/JuliaLang/julia/tree/03c072d725b6e2798347d00c9b46a3965edddaf8/base/mpfr.jl#L303\" target=\"_blank\">mpfr.jl:303</a><li> -(x::<b>Irrational{sym}</b>, y::<b>Irrational{sym}</b>) at <a href=\"https://github.com/JuliaLang/julia/tree/03c072d725b6e2798347d00c9b46a3965edddaf8/base/irrationals.jl#L72\" target=\"_blank\">irrationals.jl:72</a><li> -<i>{T<:Number}</i>(x::<b>T<:Number</b>, y::<b>T<:Number</b>) at <a href=\"https://github.com/JuliaLang/julia/tree/03c072d725b6e2798347d00c9b46a3965edddaf8/base/promotion.jl#L213\" target=\"_blank\">promotion.jl:213</a><li> -(x::<b>Number</b>, y::<b>Number</b>) at <a href=\"https://github.com/JuliaLang/julia/tree/03c072d725b6e2798347d00c9b46a3965edddaf8/base/promotion.jl#L169\" target=\"_blank\">promotion.jl:169</a><li> -<i>{T<:Base.Dates.TimeType}</i>(x::<b>OrdinalRange{T<:Base.Dates.TimeType,S}</b>, y::<b>OrdinalRange{T<:Base.Dates.TimeType,S}</b>) at <a href=\"https://github.com/JuliaLang/julia/tree/03c072d725b6e2798347d00c9b46a3965edddaf8/base/dates/arithmetic.jl#L95\" target=\"_blank\">dates/arithmetic.jl:95</a><li> -(r::<b>OrdinalRange{T,S}</b>) at <a href=\"https://github.com/JuliaLang/julia/tree/03c072d725b6e2798347d00c9b46a3965edddaf8/base/range.jl#L545\" target=\"_blank\">range.jl:545</a><li> -(r::<b>FloatRange{T<:AbstractFloat}</b>) at <a href=\"https://github.com/JuliaLang/julia/tree/03c072d725b6e2798347d00c9b46a3965edddaf8/base/range.jl#L546\" target=\"_blank\">range.jl:546</a><li> -(r::<b>LinSpace{T<:AbstractFloat}</b>) at <a href=\"https://github.com/JuliaLang/julia/tree/03c072d725b6e2798347d00c9b46a3965edddaf8/base/range.jl#L547\" target=\"_blank\">range.jl:547</a><li> -(r1::<b>OrdinalRange{T,S}</b>, r2::<b>OrdinalRange{T,S}</b>) at <a href=\"https://github.com/JuliaLang/julia/tree/03c072d725b6e2798347d00c9b46a3965edddaf8/base/operators.jl#L330\" target=\"_blank\">operators.jl:330</a><li> -<i>{T<:AbstractFloat}</i>(r1::<b>FloatRange{T<:AbstractFloat}</b>, r2::<b>FloatRange{T<:AbstractFloat}</b>) at <a href=\"https://github.com/JuliaLang/julia/tree/03c072d725b6e2798347d00c9b46a3965edddaf8/base/operators.jl#L337\" target=\"_blank\">operators.jl:337</a><li> -<i>{T<:AbstractFloat}</i>(r1::<b>LinSpace{T<:AbstractFloat}</b>, r2::<b>LinSpace{T<:AbstractFloat}</b>) at <a href=\"https://github.com/JuliaLang/julia/tree/03c072d725b6e2798347d00c9b46a3965edddaf8/base/operators.jl#L356\" target=\"_blank\">operators.jl:356</a><li> -(r1::<b>Union{FloatRange{T<:AbstractFloat},LinSpace{T<:AbstractFloat},OrdinalRange{T,S}}</b>, r2::<b>Union{FloatRange{T<:AbstractFloat},LinSpace{T<:AbstractFloat},OrdinalRange{T,S}}</b>) at <a href=\"https://github.com/JuliaLang/julia/tree/03c072d725b6e2798347d00c9b46a3965edddaf8/base/operators.jl#L369\" target=\"_blank\">operators.jl:369</a><li> -(x::<b>Ptr{T}</b>, y::<b>Ptr{T}</b>) at <a href=\"https://github.com/JuliaLang/julia/tree/03c072d725b6e2798347d00c9b46a3965edddaf8/base/pointer.jl#L73\" target=\"_blank\">pointer.jl:73</a><li> -(x::<b>Ptr{T}</b>, y::<b>Integer</b>) at <a href=\"https://github.com/JuliaLang/julia/tree/03c072d725b6e2798347d00c9b46a3965edddaf8/base/pointer.jl#L76\" target=\"_blank\">pointer.jl:76</a><li> -(B::<b>BitArray{2}</b>, J::<b>UniformScaling{T<:Number}</b>) at <a href=\"https://github.com/JuliaLang/julia/tree/03c072d725b6e2798347d00c9b46a3965edddaf8/base/linalg/uniformscaling.jl#L36\" target=\"_blank\">linalg/uniformscaling.jl:36</a><li> -(B::<b>BitArray{N}</b>) at <a href=\"https://github.com/JuliaLang/julia/tree/03c072d725b6e2798347d00c9b46a3965edddaf8/base/bitarray.jl#L775\" target=\"_blank\">bitarray.jl:775</a><li> -(A::<b>BitArray{N}</b>, B::<b>BitArray{N}</b>) at <a href=\"https://github.com/JuliaLang/julia/tree/03c072d725b6e2798347d00c9b46a3965edddaf8/base/bitarray.jl#L834\" target=\"_blank\">bitarray.jl:834</a><li> -(A::<b>Array{T,2}</b>, B::<b>Diagonal{T}</b>) at <a href=\"https://github.com/JuliaLang/julia/tree/03c072d725b6e2798347d00c9b46a3965edddaf8/base/linalg/special.jl#L122\" target=\"_blank\">linalg/special.jl:122</a><li> -(A::<b>Array{T,2}</b>, B::<b>Bidiagonal{T}</b>) at <a href=\"https://github.com/JuliaLang/julia/tree/03c072d725b6e2798347d00c9b46a3965edddaf8/base/linalg/special.jl#L122\" target=\"_blank\">linalg/special.jl:122</a><li> -(A::<b>Array{T,2}</b>, B::<b>Tridiagonal{T}</b>) at <a href=\"https://github.com/JuliaLang/julia/tree/03c072d725b6e2798347d00c9b46a3965edddaf8/base/linalg/special.jl#L122\" target=\"_blank\">linalg/special.jl:122</a><li> -(A::<b>Array{T,2}</b>, B::<b>SymTridiagonal{T}</b>) at <a href=\"https://github.com/JuliaLang/julia/tree/03c072d725b6e2798347d00c9b46a3965edddaf8/base/linalg/special.jl#L131\" target=\"_blank\">linalg/special.jl:131</a><li> -(A::<b>Array{T,2}</b>, B::<b>Base.LinAlg.AbstractTriangular{T,S<:AbstractArray{T,2}}</b>) at <a href=\"https://github.com/JuliaLang/julia/tree/03c072d725b6e2798347d00c9b46a3965edddaf8/base/linalg/special.jl#L159\" target=\"_blank\">linalg/special.jl:159</a><li> -(A::<b>Array{T,N}</b>, B::<b>SparseMatrixCSC{Tv,Ti<:Integer}</b>) at <a href=\"https://github.com/JuliaLang/julia/tree/03c072d725b6e2798347d00c9b46a3965edddaf8/base/sparse/sparsematrix.jl#L1024\" target=\"_blank\">sparse/sparsematrix.jl:1024</a><li> -(A::<b>Union{DenseArray{Bool,N},SubArray{Bool,N,A<:DenseArray{T,N},I<:Tuple{Vararg{Union{Colon,Int64,Range{Int64}}}},LD}}</b>) at <a href=\"https://github.com/JuliaLang/julia/tree/03c072d725b6e2798347d00c9b46a3965edddaf8/base/arraymath.jl#L24\" target=\"_blank\">arraymath.jl:24</a><li> -(A::<b>Union{DenseArray{Bool,N},SubArray{Bool,N,A<:DenseArray{T,N},I<:Tuple{Vararg{Union{Colon,Int64,Range{Int64}}}},LD}}</b>, B::<b>Union{DenseArray{Bool,N},SubArray{Bool,N,A<:DenseArray{T,N},I<:Tuple{Vararg{Union{Colon,Int64,Range{Int64}}}},LD}}</b>) at <a href=\"https://github.com/JuliaLang/julia/tree/03c072d725b6e2798347d00c9b46a3965edddaf8/base/arraymath.jl#L166\" target=\"_blank\">arraymath.jl:166</a><li> -<i>{P<:Union{Base.Dates.CompoundPeriod,Base.Dates.Period}}</i>(Y::<b>Union{DenseArray{P<:Union{Base.Dates.CompoundPeriod,Base.Dates.Period},N},SubArray{P<:Union{Base.Dates.CompoundPeriod,Base.Dates.Period},N,A<:DenseArray{T,N},I<:Tuple{Vararg{Union{Colon,Int64,Range{Int64}}}},LD}}</b>, x::<b>Union{Base.Dates.CompoundPeriod,Base.Dates.Period}</b>) at <a href=\"https://github.com/JuliaLang/julia/tree/03c072d725b6e2798347d00c9b46a3965edddaf8/base/dates/periods.jl#L216\" target=\"_blank\">dates/periods.jl:216</a><li> -<i>{P<:Union{Base.Dates.CompoundPeriod,Base.Dates.Period},Q<:Union{Base.Dates.CompoundPeriod,Base.Dates.Period}}</i>(X::<b>Union{DenseArray{P<:Union{Base.Dates.CompoundPeriod,Base.Dates.Period},N},SubArray{P<:Union{Base.Dates.CompoundPeriod,Base.Dates.Period},N,A<:DenseArray{T,N},I<:Tuple{Vararg{Union{Colon,Int64,Range{Int64}}}},LD}}</b>, Y::<b>Union{DenseArray{Q<:Union{Base.Dates.CompoundPeriod,Base.Dates.Period},N},SubArray{Q<:Union{Base.Dates.CompoundPeriod,Base.Dates.Period},N,A<:DenseArray{T,N},I<:Tuple{Vararg{Union{Colon,Int64,Range{Int64}}}},LD}}</b>) at <a href=\"https://github.com/JuliaLang/julia/tree/03c072d725b6e2798347d00c9b46a3965edddaf8/base/dates/periods.jl#L217\" target=\"_blank\">dates/periods.jl:217</a><li> -<i>{T<:Base.Dates.TimeType,P<:Union{Base.Dates.CompoundPeriod,Base.Dates.Period}}</i>(x::<b>Union{DenseArray{P<:Union{Base.Dates.CompoundPeriod,Base.Dates.Period},N},SubArray{P<:Union{Base.Dates.CompoundPeriod,Base.Dates.Period},N,A<:DenseArray{T,N},I<:Tuple{Vararg{Union{Colon,Int64,Range{Int64}}}},LD}}</b>, y::<b>T<:Base.Dates.TimeType</b>) at <a href=\"https://github.com/JuliaLang/julia/tree/03c072d725b6e2798347d00c9b46a3965edddaf8/base/dates/arithmetic.jl#L83\" target=\"_blank\">dates/arithmetic.jl:83</a><li> -(A::<b>Union{DenseArray{T,N},SubArray{T,N,A<:DenseArray{T,N},I<:Tuple{Vararg{Union{Colon,Int64,Range{Int64}}}},LD}}</b>) at <a href=\"https://github.com/JuliaLang/julia/tree/03c072d725b6e2798347d00c9b46a3965edddaf8/base/arraymath.jl#L15\" target=\"_blank\">arraymath.jl:15</a><li> -<i>{T<:Base.Dates.TimeType}</i>(x::<b>Range{T<:Base.Dates.TimeType}</b>, y::<b>Range{T<:Base.Dates.TimeType}</b>) at <a href=\"https://github.com/JuliaLang/julia/tree/03c072d725b6e2798347d00c9b46a3965edddaf8/base/dates/arithmetic.jl#L96\" target=\"_blank\">dates/arithmetic.jl:96</a><li> -<i>{S,T}</i>(A::<b>Range{S}</b>, B::<b>Range{T}</b>) at <a href=\"https://github.com/JuliaLang/julia/tree/03c072d725b6e2798347d00c9b46a3965edddaf8/base/arraymath.jl#L69\" target=\"_blank\">arraymath.jl:69</a><li> -(A::<b>LowerTriangular{T,S<:AbstractArray{T,2}}</b>) at <a href=\"https://github.com/JuliaLang/julia/tree/03c072d725b6e2798347d00c9b46a3965edddaf8/base/linalg/triangular.jl#L282\" target=\"_blank\">linalg/triangular.jl:282</a><li> -(A::<b>UpperTriangular{T,S<:AbstractArray{T,2}}</b>) at <a href=\"https://github.com/JuliaLang/julia/tree/03c072d725b6e2798347d00c9b46a3965edddaf8/base/linalg/triangular.jl#L283\" target=\"_blank\">linalg/triangular.jl:283</a><li> -(A::<b>Base.LinAlg.UnitLowerTriangular{T,S<:AbstractArray{T,2}}</b>) at <a href=\"https://github.com/JuliaLang/julia/tree/03c072d725b6e2798347d00c9b46a3965edddaf8/base/linalg/triangular.jl#L285\" target=\"_blank\">linalg/triangular.jl:285</a><li> -(A::<b>Base.LinAlg.UnitUpperTriangular{T,S<:AbstractArray{T,2}}</b>) at <a href=\"https://github.com/JuliaLang/julia/tree/03c072d725b6e2798347d00c9b46a3965edddaf8/base/linalg/triangular.jl#L292\" target=\"_blank\">linalg/triangular.jl:292</a><li> -(A::<b>Diagonal{T}</b>) at <a href=\"https://github.com/JuliaLang/julia/tree/03c072d725b6e2798347d00c9b46a3965edddaf8/base/linalg/diagonal.jl#L85\" target=\"_blank\">linalg/diagonal.jl:85</a><li> -(A::<b>Bidiagonal{T}</b>) at <a href=\"https://github.com/JuliaLang/julia/tree/03c072d725b6e2798347d00c9b46a3965edddaf8/base/linalg/bidiag.jl#L191\" target=\"_blank\">linalg/bidiag.jl:191</a><li> -(A::<b>SparseMatrixCSC{Tv,Ti<:Integer}</b>) at <a href=\"https://github.com/JuliaLang/julia/tree/03c072d725b6e2798347d00c9b46a3965edddaf8/base/sparse/sparsematrix.jl#L674\" target=\"_blank\">sparse/sparsematrix.jl:674</a><li> -<i>{S,T}</i>(A::<b>AbstractArray{S,N}</b>, B::<b>Range{T}</b>) at <a href=\"https://github.com/JuliaLang/julia/tree/03c072d725b6e2798347d00c9b46a3965edddaf8/base/arraymath.jl#L78\" target=\"_blank\">arraymath.jl:78</a><li> -<i>{S,T}</i>(A::<b>Range{S}</b>, B::<b>AbstractArray{T,N}</b>) at <a href=\"https://github.com/JuliaLang/julia/tree/03c072d725b6e2798347d00c9b46a3965edddaf8/base/arraymath.jl#L87\" target=\"_blank\">arraymath.jl:87</a><li> -(A::<b>SymTridiagonal{T}</b>, B::<b>SymTridiagonal{T}</b>) at <a href=\"https://github.com/JuliaLang/julia/tree/03c072d725b6e2798347d00c9b46a3965edddaf8/base/linalg/tridiag.jl#L85\" target=\"_blank\">linalg/tridiag.jl:85</a><li> -(A::<b>Tridiagonal{T}</b>, B::<b>Tridiagonal{T}</b>) at <a href=\"https://github.com/JuliaLang/julia/tree/03c072d725b6e2798347d00c9b46a3965edddaf8/base/linalg/tridiag.jl#L405\" target=\"_blank\">linalg/tridiag.jl:405</a><li> -(A::<b>UpperTriangular{T,S<:AbstractArray{T,2}}</b>, B::<b>UpperTriangular{T,S<:AbstractArray{T,2}}</b>) at <a href=\"https://github.com/JuliaLang/julia/tree/03c072d725b6e2798347d00c9b46a3965edddaf8/base/linalg/triangular.jl#L357\" target=\"_blank\">linalg/triangular.jl:357</a><li> -(A::<b>LowerTriangular{T,S<:AbstractArray{T,2}}</b>, B::<b>LowerTriangular{T,S<:AbstractArray{T,2}}</b>) at <a href=\"https://github.com/JuliaLang/julia/tree/03c072d725b6e2798347d00c9b46a3965edddaf8/base/linalg/triangular.jl#L358\" target=\"_blank\">linalg/triangular.jl:358</a><li> -(A::<b>UpperTriangular{T,S<:AbstractArray{T,2}}</b>, B::<b>Base.LinAlg.UnitUpperTriangular{T,S<:AbstractArray{T,2}}</b>) at <a href=\"https://github.com/JuliaLang/julia/tree/03c072d725b6e2798347d00c9b46a3965edddaf8/base/linalg/triangular.jl#L359\" target=\"_blank\">linalg/triangular.jl:359</a><li> -(A::<b>LowerTriangular{T,S<:AbstractArray{T,2}}</b>, B::<b>Base.LinAlg.UnitLowerTriangular{T,S<:AbstractArray{T,2}}</b>) at <a href=\"https://github.com/JuliaLang/julia/tree/03c072d725b6e2798347d00c9b46a3965edddaf8/base/linalg/triangular.jl#L360\" target=\"_blank\">linalg/triangular.jl:360</a><li> -(A::<b>Base.LinAlg.UnitUpperTriangular{T,S<:AbstractArray{T,2}}</b>, B::<b>UpperTriangular{T,S<:AbstractArray{T,2}}</b>) at <a href=\"https://github.com/JuliaLang/julia/tree/03c072d725b6e2798347d00c9b46a3965edddaf8/base/linalg/triangular.jl#L361\" target=\"_blank\">linalg/triangular.jl:361</a><li> -(A::<b>Base.LinAlg.UnitLowerTriangular{T,S<:AbstractArray{T,2}}</b>, B::<b>LowerTriangular{T,S<:AbstractArray{T,2}}</b>) at <a href=\"https://github.com/JuliaLang/julia/tree/03c072d725b6e2798347d00c9b46a3965edddaf8/base/linalg/triangular.jl#L362\" target=\"_blank\">linalg/triangular.jl:362</a><li> -(A::<b>Base.LinAlg.UnitUpperTriangular{T,S<:AbstractArray{T,2}}</b>, B::<b>Base.LinAlg.UnitUpperTriangular{T,S<:AbstractArray{T,2}}</b>) at <a href=\"https://github.com/JuliaLang/julia/tree/03c072d725b6e2798347d00c9b46a3965edddaf8/base/linalg/triangular.jl#L363\" target=\"_blank\">linalg/triangular.jl:363</a><li> -(A::<b>Base.LinAlg.UnitLowerTriangular{T,S<:AbstractArray{T,2}}</b>, B::<b>Base.LinAlg.UnitLowerTriangular{T,S<:AbstractArray{T,2}}</b>) at <a href=\"https://github.com/JuliaLang/julia/tree/03c072d725b6e2798347d00c9b46a3965edddaf8/base/linalg/triangular.jl#L364\" target=\"_blank\">linalg/triangular.jl:364</a><li> -(A::<b>Base.LinAlg.AbstractTriangular{T,S<:AbstractArray{T,2}}</b>, B::<b>Base.LinAlg.AbstractTriangular{T,S<:AbstractArray{T,2}}</b>) at <a href=\"https://github.com/JuliaLang/julia/tree/03c072d725b6e2798347d00c9b46a3965edddaf8/base/linalg/triangular.jl#L365\" target=\"_blank\">linalg/triangular.jl:365</a><li> -(Da::<b>Diagonal{T}</b>, Db::<b>Diagonal{T}</b>) at <a href=\"https://github.com/JuliaLang/julia/tree/03c072d725b6e2798347d00c9b46a3965edddaf8/base/linalg/diagonal.jl#L87\" target=\"_blank\">linalg/diagonal.jl:87</a><li> -(A::<b>Bidiagonal{T}</b>, B::<b>Bidiagonal{T}</b>) at <a href=\"https://github.com/JuliaLang/julia/tree/03c072d725b6e2798347d00c9b46a3965edddaf8/base/linalg/bidiag.jl#L184\" target=\"_blank\">linalg/bidiag.jl:184</a><li> -(A::<b>Diagonal{T}</b>, B::<b>Bidiagonal{T}</b>) at <a href=\"https://github.com/JuliaLang/julia/tree/03c072d725b6e2798347d00c9b46a3965edddaf8/base/linalg/special.jl#L121\" target=\"_blank\">linalg/special.jl:121</a><li> -(A::<b>Bidiagonal{T}</b>, B::<b>Diagonal{T}</b>) at <a href=\"https://github.com/JuliaLang/julia/tree/03c072d725b6e2798347d00c9b46a3965edddaf8/base/linalg/special.jl#L122\" target=\"_blank\">linalg/special.jl:122</a><li> -(A::<b>Diagonal{T}</b>, B::<b>Tridiagonal{T}</b>) at <a href=\"https://github.com/JuliaLang/julia/tree/03c072d725b6e2798347d00c9b46a3965edddaf8/base/linalg/special.jl#L121\" target=\"_blank\">linalg/special.jl:121</a><li> -(A::<b>Tridiagonal{T}</b>, B::<b>Diagonal{T}</b>) at <a href=\"https://github.com/JuliaLang/julia/tree/03c072d725b6e2798347d00c9b46a3965edddaf8/base/linalg/special.jl#L122\" target=\"_blank\">linalg/special.jl:122</a><li> -(A::<b>Diagonal{T}</b>, B::<b>Array{T,2}</b>) at <a href=\"https://github.com/JuliaLang/julia/tree/03c072d725b6e2798347d00c9b46a3965edddaf8/base/linalg/special.jl#L121\" target=\"_blank\">linalg/special.jl:121</a><li> -(A::<b>Bidiagonal{T}</b>, B::<b>Tridiagonal{T}</b>) at <a href=\"https://github.com/JuliaLang/julia/tree/03c072d725b6e2798347d00c9b46a3965edddaf8/base/linalg/special.jl#L121\" target=\"_blank\">linalg/special.jl:121</a><li> -(A::<b>Tridiagonal{T}</b>, B::<b>Bidiagonal{T}</b>) at <a href=\"https://github.com/JuliaLang/julia/tree/03c072d725b6e2798347d00c9b46a3965edddaf8/base/linalg/special.jl#L122\" target=\"_blank\">linalg/special.jl:122</a><li> -(A::<b>Bidiagonal{T}</b>, B::<b>Array{T,2}</b>) at <a href=\"https://github.com/JuliaLang/julia/tree/03c072d725b6e2798347d00c9b46a3965edddaf8/base/linalg/special.jl#L121\" target=\"_blank\">linalg/special.jl:121</a><li> -(A::<b>Tridiagonal{T}</b>, B::<b>Array{T,2}</b>) at <a href=\"https://github.com/JuliaLang/julia/tree/03c072d725b6e2798347d00c9b46a3965edddaf8/base/linalg/special.jl#L121\" target=\"_blank\">linalg/special.jl:121</a><li> -(A::<b>SymTridiagonal{T}</b>, B::<b>Tridiagonal{T}</b>) at <a href=\"https://github.com/JuliaLang/julia/tree/03c072d725b6e2798347d00c9b46a3965edddaf8/base/linalg/special.jl#L130\" target=\"_blank\">linalg/special.jl:130</a><li> -(A::<b>Tridiagonal{T}</b>, B::<b>SymTridiagonal{T}</b>) at <a href=\"https://github.com/JuliaLang/julia/tree/03c072d725b6e2798347d00c9b46a3965edddaf8/base/linalg/special.jl#L131\" target=\"_blank\">linalg/special.jl:131</a><li> -(A::<b>SymTridiagonal{T}</b>, B::<b>Array{T,2}</b>) at <a href=\"https://github.com/JuliaLang/julia/tree/03c072d725b6e2798347d00c9b46a3965edddaf8/base/linalg/special.jl#L130\" target=\"_blank\">linalg/special.jl:130</a><li> -(A::<b>Diagonal{T}</b>, B::<b>SymTridiagonal{T}</b>) at <a href=\"https://github.com/JuliaLang/julia/tree/03c072d725b6e2798347d00c9b46a3965edddaf8/base/linalg/special.jl#L139\" target=\"_blank\">linalg/special.jl:139</a><li> -(A::<b>SymTridiagonal{T}</b>, B::<b>Diagonal{T}</b>) at <a href=\"https://github.com/JuliaLang/julia/tree/03c072d725b6e2798347d00c9b46a3965edddaf8/base/linalg/special.jl#L140\" target=\"_blank\">linalg/special.jl:140</a><li> -(A::<b>Bidiagonal{T}</b>, B::<b>SymTridiagonal{T}</b>) at <a href=\"https://github.com/JuliaLang/julia/tree/03c072d725b6e2798347d00c9b46a3965edddaf8/base/linalg/special.jl#L139\" target=\"_blank\">linalg/special.jl:139</a><li> -(A::<b>SymTridiagonal{T}</b>, B::<b>Bidiagonal{T}</b>) at <a href=\"https://github.com/JuliaLang/julia/tree/03c072d725b6e2798347d00c9b46a3965edddaf8/base/linalg/special.jl#L140\" target=\"_blank\">linalg/special.jl:140</a><li> -(A::<b>Diagonal{T}</b>, B::<b>UpperTriangular{T,S<:AbstractArray{T,2}}</b>) at <a href=\"https://github.com/JuliaLang/julia/tree/03c072d725b6e2798347d00c9b46a3965edddaf8/base/linalg/special.jl#L151\" target=\"_blank\">linalg/special.jl:151</a><li> -(A::<b>UpperTriangular{T,S<:AbstractArray{T,2}}</b>, B::<b>Diagonal{T}</b>) at <a href=\"https://github.com/JuliaLang/julia/tree/03c072d725b6e2798347d00c9b46a3965edddaf8/base/linalg/special.jl#L152\" target=\"_blank\">linalg/special.jl:152</a><li> -(A::<b>Diagonal{T}</b>, B::<b>Base.LinAlg.UnitUpperTriangular{T,S<:AbstractArray{T,2}}</b>) at <a href=\"https://github.com/JuliaLang/julia/tree/03c072d725b6e2798347d00c9b46a3965edddaf8/base/linalg/special.jl#L151\" target=\"_blank\">linalg/special.jl:151</a><li> -(A::<b>Base.LinAlg.UnitUpperTriangular{T,S<:AbstractArray{T,2}}</b>, B::<b>Diagonal{T}</b>) at <a href=\"https://github.com/JuliaLang/julia/tree/03c072d725b6e2798347d00c9b46a3965edddaf8/base/linalg/special.jl#L152\" target=\"_blank\">linalg/special.jl:152</a><li> -(A::<b>Diagonal{T}</b>, B::<b>LowerTriangular{T,S<:AbstractArray{T,2}}</b>) at <a href=\"https://github.com/JuliaLang/julia/tree/03c072d725b6e2798347d00c9b46a3965edddaf8/base/linalg/special.jl#L151\" target=\"_blank\">linalg/special.jl:151</a><li> -(A::<b>LowerTriangular{T,S<:AbstractArray{T,2}}</b>, B::<b>Diagonal{T}</b>) at <a href=\"https://github.com/JuliaLang/julia/tree/03c072d725b6e2798347d00c9b46a3965edddaf8/base/linalg/special.jl#L152\" target=\"_blank\">linalg/special.jl:152</a><li> -(A::<b>Diagonal{T}</b>, B::<b>Base.LinAlg.UnitLowerTriangular{T,S<:AbstractArray{T,2}}</b>) at <a href=\"https://github.com/JuliaLang/julia/tree/03c072d725b6e2798347d00c9b46a3965edddaf8/base/linalg/special.jl#L151\" target=\"_blank\">linalg/special.jl:151</a><li> -(A::<b>Base.LinAlg.UnitLowerTriangular{T,S<:AbstractArray{T,2}}</b>, B::<b>Diagonal{T}</b>) at <a href=\"https://github.com/JuliaLang/julia/tree/03c072d725b6e2798347d00c9b46a3965edddaf8/base/linalg/special.jl#L152\" target=\"_blank\">linalg/special.jl:152</a><li> -(A::<b>Base.LinAlg.AbstractTriangular{T,S<:AbstractArray{T,2}}</b>, B::<b>SymTridiagonal{T}</b>) at <a href=\"https://github.com/JuliaLang/julia/tree/03c072d725b6e2798347d00c9b46a3965edddaf8/base/linalg/special.jl#L158\" target=\"_blank\">linalg/special.jl:158</a><li> -(A::<b>SymTridiagonal{T}</b>, B::<b>Base.LinAlg.AbstractTriangular{T,S<:AbstractArray{T,2}}</b>) at <a href=\"https://github.com/JuliaLang/julia/tree/03c072d725b6e2798347d00c9b46a3965edddaf8/base/linalg/special.jl#L159\" target=\"_blank\">linalg/special.jl:159</a><li> -(A::<b>Base.LinAlg.AbstractTriangular{T,S<:AbstractArray{T,2}}</b>, B::<b>Tridiagonal{T}</b>) at <a href=\"https://github.com/JuliaLang/julia/tree/03c072d725b6e2798347d00c9b46a3965edddaf8/base/linalg/special.jl#L158\" target=\"_blank\">linalg/special.jl:158</a><li> -(A::<b>Tridiagonal{T}</b>, B::<b>Base.LinAlg.AbstractTriangular{T,S<:AbstractArray{T,2}}</b>) at <a href=\"https://github.com/JuliaLang/julia/tree/03c072d725b6e2798347d00c9b46a3965edddaf8/base/linalg/special.jl#L159\" target=\"_blank\">linalg/special.jl:159</a><li> -(A::<b>Base.LinAlg.AbstractTriangular{T,S<:AbstractArray{T,2}}</b>, B::<b>Bidiagonal{T}</b>) at <a href=\"https://github.com/JuliaLang/julia/tree/03c072d725b6e2798347d00c9b46a3965edddaf8/base/linalg/special.jl#L158\" target=\"_blank\">linalg/special.jl:158</a><li> -(A::<b>Bidiagonal{T}</b>, B::<b>Base.LinAlg.AbstractTriangular{T,S<:AbstractArray{T,2}}</b>) at <a href=\"https://github.com/JuliaLang/julia/tree/03c072d725b6e2798347d00c9b46a3965edddaf8/base/linalg/special.jl#L159\" target=\"_blank\">linalg/special.jl:159</a><li> -(A::<b>Base.LinAlg.AbstractTriangular{T,S<:AbstractArray{T,2}}</b>, B::<b>Array{T,2}</b>) at <a href=\"https://github.com/JuliaLang/julia/tree/03c072d725b6e2798347d00c9b46a3965edddaf8/base/linalg/special.jl#L158\" target=\"_blank\">linalg/special.jl:158</a><li> -<i>{Tv1,Ti1,Tv2,Ti2}</i>(A_1::<b>SparseMatrixCSC{Tv1,Ti1}</b>, A_2::<b>SparseMatrixCSC{Tv2,Ti2}</b>) at <a href=\"https://github.com/JuliaLang/julia/tree/03c072d725b6e2798347d00c9b46a3965edddaf8/base/sparse/sparsematrix.jl#L1005\" target=\"_blank\">sparse/sparsematrix.jl:1005</a><li> -(A::<b>SparseMatrixCSC{Tv,Ti<:Integer}</b>, B::<b>Array{T,N}</b>) at <a href=\"https://github.com/JuliaLang/julia/tree/03c072d725b6e2798347d00c9b46a3965edddaf8/base/sparse/sparsematrix.jl#L1022\" target=\"_blank\">sparse/sparsematrix.jl:1022</a><li> -<i>{S,T}</i>(A::<b>AbstractArray{S,N}</b>, B::<b>AbstractArray{T,N}</b>) at <a href=\"https://github.com/JuliaLang/julia/tree/03c072d725b6e2798347d00c9b46a3965edddaf8/base/arraymath.jl#L96\" target=\"_blank\">arraymath.jl:96</a><li> -(A::<b>AbstractArray{Bool,N}</b>, x::<b>Bool</b>) at <a href=\"https://github.com/JuliaLang/julia/tree/03c072d725b6e2798347d00c9b46a3965edddaf8/base/arraymath.jl#L137\" target=\"_blank\">arraymath.jl:137</a><li> -(x::<b>Bool</b>, A::<b>AbstractArray{Bool,N}</b>) at <a href=\"https://github.com/JuliaLang/julia/tree/03c072d725b6e2798347d00c9b46a3965edddaf8/base/arraymath.jl#L138\" target=\"_blank\">arraymath.jl:138</a><li> -(A::<b>AbstractArray{T,N}</b>, x::<b>Number</b>) at <a href=\"https://github.com/JuliaLang/julia/tree/03c072d725b6e2798347d00c9b46a3965edddaf8/base/arraymath.jl#L141\" target=\"_blank\">arraymath.jl:141</a><li> -(x::<b>Number</b>, A::<b>AbstractArray{T,N}</b>) at <a href=\"https://github.com/JuliaLang/julia/tree/03c072d725b6e2798347d00c9b46a3965edddaf8/base/arraymath.jl#L142\" target=\"_blank\">arraymath.jl:142</a><li> -(x::<b>Char</b>, y::<b>Char</b>) at <a href=\"https://github.com/JuliaLang/julia/tree/03c072d725b6e2798347d00c9b46a3965edddaf8/base/char.jl#L40\" target=\"_blank\">char.jl:40</a><li> -(x::<b>Char</b>, y::<b>Integer</b>) at <a href=\"https://github.com/JuliaLang/julia/tree/03c072d725b6e2798347d00c9b46a3965edddaf8/base/char.jl#L41\" target=\"_blank\">char.jl:41</a><li> -(a::<b>Base.Grisu.Float</b>, b::<b>Base.Grisu.Float</b>) at <a href=\"https://github.com/JuliaLang/julia/tree/03c072d725b6e2798347d00c9b46a3965edddaf8/base/grisu/float.jl#L133\" target=\"_blank\">grisu/float.jl:133</a><li> -<i>{N}</i>(index1::<b>CartesianIndex{N}</b>, index2::<b>CartesianIndex{N}</b>) at <a href=\"https://github.com/JuliaLang/julia/tree/03c072d725b6e2798347d00c9b46a3965edddaf8/base/multidimensional.jl#L42\" target=\"_blank\">multidimensional.jl:42</a><li> -(J::<b>UniformScaling{T<:Number}</b>) at <a href=\"https://github.com/JuliaLang/julia/tree/03c072d725b6e2798347d00c9b46a3965edddaf8/base/linalg/uniformscaling.jl#L34\" target=\"_blank\">linalg/uniformscaling.jl:34</a><li> -(J1::<b>UniformScaling{T<:Number}</b>, J2::<b>UniformScaling{T<:Number}</b>) at <a href=\"https://github.com/JuliaLang/julia/tree/03c072d725b6e2798347d00c9b46a3965edddaf8/base/linalg/uniformscaling.jl#L35\" target=\"_blank\">linalg/uniformscaling.jl:35</a><li> -(J::<b>UniformScaling{T<:Number}</b>, B::<b>BitArray{2}</b>) at <a href=\"https://github.com/JuliaLang/julia/tree/03c072d725b6e2798347d00c9b46a3965edddaf8/base/linalg/uniformscaling.jl#L37\" target=\"_blank\">linalg/uniformscaling.jl:37</a><li> -(J::<b>UniformScaling{T<:Number}</b>, x::<b>Number</b>) at <a href=\"https://github.com/JuliaLang/julia/tree/03c072d725b6e2798347d00c9b46a3965edddaf8/base/linalg/uniformscaling.jl#L38\" target=\"_blank\">linalg/uniformscaling.jl:38</a><li> -(x::<b>Number</b>, J::<b>UniformScaling{T<:Number}</b>) at <a href=\"https://github.com/JuliaLang/julia/tree/03c072d725b6e2798347d00c9b46a3965edddaf8/base/linalg/uniformscaling.jl#L39\" target=\"_blank\">linalg/uniformscaling.jl:39</a><li> -(UL::<b>UpperTriangular{T,S<:AbstractArray{T,2}}</b>, J::<b>UniformScaling{T<:Number}</b>) at <a href=\"https://github.com/JuliaLang/julia/tree/03c072d725b6e2798347d00c9b46a3965edddaf8/base/linalg/uniformscaling.jl#L45\" target=\"_blank\">linalg/uniformscaling.jl:45</a><li> -(UL::<b>Base.LinAlg.UnitUpperTriangular{T,S<:AbstractArray{T,2}}</b>, J::<b>UniformScaling{T<:Number}</b>) at <a href=\"https://github.com/JuliaLang/julia/tree/03c072d725b6e2798347d00c9b46a3965edddaf8/base/linalg/uniformscaling.jl#L48\" target=\"_blank\">linalg/uniformscaling.jl:48</a><li> -(UL::<b>LowerTriangular{T,S<:AbstractArray{T,2}}</b>, J::<b>UniformScaling{T<:Number}</b>) at <a href=\"https://github.com/JuliaLang/julia/tree/03c072d725b6e2798347d00c9b46a3965edddaf8/base/linalg/uniformscaling.jl#L45\" target=\"_blank\">linalg/uniformscaling.jl:45</a><li> -(UL::<b>Base.LinAlg.UnitLowerTriangular{T,S<:AbstractArray{T,2}}</b>, J::<b>UniformScaling{T<:Number}</b>) at <a href=\"https://github.com/JuliaLang/julia/tree/03c072d725b6e2798347d00c9b46a3965edddaf8/base/linalg/uniformscaling.jl#L48\" target=\"_blank\">linalg/uniformscaling.jl:48</a><li> -(J::<b>UniformScaling{T<:Number}</b>, UL::<b>Union{Base.LinAlg.UnitUpperTriangular{T,S<:AbstractArray{T,2}},UpperTriangular{T,S<:AbstractArray{T,2}}}</b>) at <a href=\"https://github.com/JuliaLang/julia/tree/03c072d725b6e2798347d00c9b46a3965edddaf8/base/linalg/uniformscaling.jl#L59\" target=\"_blank\">linalg/uniformscaling.jl:59</a><li> -(J::<b>UniformScaling{T<:Number}</b>, UL::<b>Union{Base.LinAlg.UnitLowerTriangular{T,S<:AbstractArray{T,2}},LowerTriangular{T,S<:AbstractArray{T,2}}}</b>) at <a href=\"https://github.com/JuliaLang/julia/tree/03c072d725b6e2798347d00c9b46a3965edddaf8/base/linalg/uniformscaling.jl#L75\" target=\"_blank\">linalg/uniformscaling.jl:75</a><li> -(A::<b>SparseMatrixCSC{Tv,Ti<:Integer}</b>, J::<b>UniformScaling{T<:Number}</b>) at <a href=\"https://github.com/JuliaLang/julia/tree/03c072d725b6e2798347d00c9b46a3965edddaf8/base/sparse/sparsematrix.jl#L2989\" target=\"_blank\">sparse/sparsematrix.jl:2989</a><li> -<i>{TA,TJ<:Number}</i>(A::<b>AbstractArray{TA,2}</b>, J::<b>UniformScaling{TJ<:Number}</b>) at <a href=\"https://github.com/JuliaLang/julia/tree/03c072d725b6e2798347d00c9b46a3965edddaf8/base/linalg/uniformscaling.jl#L102\" target=\"_blank\">linalg/uniformscaling.jl:102</a><li> -(J::<b>UniformScaling{T<:Number}</b>, A::<b>SparseMatrixCSC{Tv,Ti<:Integer}</b>) at <a href=\"https://github.com/JuliaLang/julia/tree/03c072d725b6e2798347d00c9b46a3965edddaf8/base/sparse/sparsematrix.jl#L2990\" target=\"_blank\">sparse/sparsematrix.jl:2990</a><li> -<i>{TA,TJ<:Number}</i>(J::<b>UniformScaling{TJ<:Number}</b>, A::<b>AbstractArray{TA,2}</b>) at <a href=\"https://github.com/JuliaLang/julia/tree/03c072d725b6e2798347d00c9b46a3965edddaf8/base/linalg/uniformscaling.jl#L111\" target=\"_blank\">linalg/uniformscaling.jl:111</a><li> -<i>{T}</i>(a::<b>Base.Pkg.Resolve.VersionWeights.HierarchicalValue{T}</b>, b::<b>Base.Pkg.Resolve.VersionWeights.HierarchicalValue{T}</b>) at <a href=\"https://github.com/JuliaLang/julia/tree/03c072d725b6e2798347d00c9b46a3965edddaf8/base/pkg/resolve/versionweight.jl#L23\" target=\"_blank\">pkg/resolve/versionweight.jl:23</a><li> -<i>{T}</i>(a::<b>Base.Pkg.Resolve.VersionWeights.HierarchicalValue{T}</b>) at <a href=\"https://github.com/JuliaLang/julia/tree/03c072d725b6e2798347d00c9b46a3965edddaf8/base/pkg/resolve/versionweight.jl#L45\" target=\"_blank\">pkg/resolve/versionweight.jl:45</a><li> -(a::<b>Base.Pkg.Resolve.VersionWeights.VWPreBuildItem</b>) at <a href=\"https://github.com/JuliaLang/julia/tree/03c072d725b6e2798347d00c9b46a3965edddaf8/base/pkg/resolve/versionweight.jl#L87\" target=\"_blank\">pkg/resolve/versionweight.jl:87</a><li> -(a::<b>Base.Pkg.Resolve.VersionWeights.VWPreBuildItem</b>, b::<b>Base.Pkg.Resolve.VersionWeights.VWPreBuildItem</b>) at <a href=\"https://github.com/JuliaLang/julia/tree/03c072d725b6e2798347d00c9b46a3965edddaf8/base/pkg/resolve/versionweight.jl#L84\" target=\"_blank\">pkg/resolve/versionweight.jl:84</a><li> -(a::<b>Base.Pkg.Resolve.VersionWeights.VWPreBuild</b>) at <a href=\"https://github.com/JuliaLang/julia/tree/03c072d725b6e2798347d00c9b46a3965edddaf8/base/pkg/resolve/versionweight.jl#L137\" target=\"_blank\">pkg/resolve/versionweight.jl:137</a><li> -(a::<b>Base.Pkg.Resolve.VersionWeights.VWPreBuild</b>, b::<b>Base.Pkg.Resolve.VersionWeights.VWPreBuild</b>) at <a href=\"https://github.com/JuliaLang/julia/tree/03c072d725b6e2798347d00c9b46a3965edddaf8/base/pkg/resolve/versionweight.jl#L126\" target=\"_blank\">pkg/resolve/versionweight.jl:126</a><li> -(a::<b>Base.Pkg.Resolve.VersionWeights.VersionWeight</b>) at <a href=\"https://github.com/JuliaLang/julia/tree/03c072d725b6e2798347d00c9b46a3965edddaf8/base/pkg/resolve/versionweight.jl#L190\" target=\"_blank\">pkg/resolve/versionweight.jl:190</a><li> -(a::<b>Base.Pkg.Resolve.VersionWeights.VersionWeight</b>, b::<b>Base.Pkg.Resolve.VersionWeights.VersionWeight</b>) at <a href=\"https://github.com/JuliaLang/julia/tree/03c072d725b6e2798347d00c9b46a3965edddaf8/base/pkg/resolve/versionweight.jl#L180\" target=\"_blank\">pkg/resolve/versionweight.jl:180</a><li> -(a::<b>Base.Pkg.Resolve.MaxSum.FieldValues.FieldValue</b>, b::<b>Base.Pkg.Resolve.MaxSum.FieldValues.FieldValue</b>) at <a href=\"https://github.com/JuliaLang/julia/tree/03c072d725b6e2798347d00c9b46a3965edddaf8/base/pkg/resolve/fieldvalue.jl#L43\" target=\"_blank\">pkg/resolve/fieldvalue.jl:43</a><li> -<i>{P<:Base.Dates.Period}</i>(x::<b>P<:Base.Dates.Period</b>) at <a href=\"https://github.com/JuliaLang/julia/tree/03c072d725b6e2798347d00c9b46a3965edddaf8/base/dates/periods.jl#L36\" target=\"_blank\">dates/periods.jl:36</a><li> -<i>{P<:Base.Dates.Period}</i>(x::<b>P<:Base.Dates.Period</b>, y::<b>P<:Base.Dates.Period</b>) at <a href=\"https://github.com/JuliaLang/julia/tree/03c072d725b6e2798347d00c9b46a3965edddaf8/base/dates/periods.jl#L43\" target=\"_blank\">dates/periods.jl:43</a><li> -(x::<b>Base.Dates.Period</b>, y::<b>Base.Dates.Period</b>) at <a href=\"https://github.com/JuliaLang/julia/tree/03c072d725b6e2798347d00c9b46a3965edddaf8/base/dates/periods.jl#L195\" target=\"_blank\">dates/periods.jl:195</a><li> -(x::<b>Base.Dates.CompoundPeriod</b>) at <a href=\"https://github.com/JuliaLang/julia/tree/03c072d725b6e2798347d00c9b46a3965edddaf8/base/dates/periods.jl#L197\" target=\"_blank\">dates/periods.jl:197</a><li> -(x::<b>Base.Dates.CompoundPeriod</b>, y::<b>Base.Dates.Period</b>) at <a href=\"https://github.com/JuliaLang/julia/tree/03c072d725b6e2798347d00c9b46a3965edddaf8/base/dates/periods.jl#L196\" target=\"_blank\">dates/periods.jl:196</a><li> -(y::<b>Union{Base.Dates.CompoundPeriod,Base.Dates.Period}</b>, x::<b>Base.Dates.CompoundPeriod</b>) at <a href=\"https://github.com/JuliaLang/julia/tree/03c072d725b6e2798347d00c9b46a3965edddaf8/base/dates/periods.jl#L198\" target=\"_blank\">dates/periods.jl:198</a><li> -<i>{P<:Union{Base.Dates.CompoundPeriod,Base.Dates.Period}}</i>(x::<b>Union{Base.Dates.CompoundPeriod,Base.Dates.Period}</b>, Y::<b>Union{DenseArray{P<:Union{Base.Dates.CompoundPeriod,Base.Dates.Period},N},SubArray{P<:Union{Base.Dates.CompoundPeriod,Base.Dates.Period},N,A<:DenseArray{T,N},I<:Tuple{Vararg{Union{Colon,Int64,Range{Int64}}}},LD}}</b>) at <a href=\"https://github.com/JuliaLang/julia/tree/03c072d725b6e2798347d00c9b46a3965edddaf8/base/dates/periods.jl#L215\" target=\"_blank\">dates/periods.jl:215</a><li> -(dt::<b>DateTime</b>, y::<b>Base.Dates.Year</b>) at <a href=\"https://github.com/JuliaLang/julia/tree/03c072d725b6e2798347d00c9b46a3965edddaf8/base/dates/arithmetic.jl#L21\" target=\"_blank\">dates/arithmetic.jl:21</a><li> -(dt::<b>Date</b>, y::<b>Base.Dates.Year</b>) at <a href=\"https://github.com/JuliaLang/julia/tree/03c072d725b6e2798347d00c9b46a3965edddaf8/base/dates/arithmetic.jl#L25\" target=\"_blank\">dates/arithmetic.jl:25</a><li> -(dt::<b>DateTime</b>, z::<b>Base.Dates.Month</b>) at <a href=\"https://github.com/JuliaLang/julia/tree/03c072d725b6e2798347d00c9b46a3965edddaf8/base/dates/arithmetic.jl#L49\" target=\"_blank\">dates/arithmetic.jl:49</a><li> -(dt::<b>Date</b>, z::<b>Base.Dates.Month</b>) at <a href=\"https://github.com/JuliaLang/julia/tree/03c072d725b6e2798347d00c9b46a3965edddaf8/base/dates/arithmetic.jl#L55\" target=\"_blank\">dates/arithmetic.jl:55</a><li> -(x::<b>Date</b>, y::<b>Base.Dates.Week</b>) at <a href=\"https://github.com/JuliaLang/julia/tree/03c072d725b6e2798347d00c9b46a3965edddaf8/base/dates/arithmetic.jl#L61\" target=\"_blank\">dates/arithmetic.jl:61</a><li> -(x::<b>Date</b>, y::<b>Base.Dates.Day</b>) at <a href=\"https://github.com/JuliaLang/julia/tree/03c072d725b6e2798347d00c9b46a3965edddaf8/base/dates/arithmetic.jl#L63\" target=\"_blank\">dates/arithmetic.jl:63</a><li> -(x::<b>DateTime</b>, y::<b>Base.Dates.Period</b>) at <a href=\"https://github.com/JuliaLang/julia/tree/03c072d725b6e2798347d00c9b46a3965edddaf8/base/dates/arithmetic.jl#L65\" target=\"_blank\">dates/arithmetic.jl:65</a><li> -(a::<b>Base.Dates.TimeType</b>, b::<b>Base.Dates.Period</b>, c::<b>Base.Dates.Period</b>) at <a href=\"https://github.com/JuliaLang/julia/tree/03c072d725b6e2798347d00c9b46a3965edddaf8/base/dates/periods.jl#L228\" target=\"_blank\">dates/periods.jl:228</a><li> -(a::<b>Base.Dates.TimeType</b>, b::<b>Base.Dates.Period</b>, c::<b>Base.Dates.Period</b>, d::<b>Base.Dates.Period...</b>) at <a href=\"https://github.com/JuliaLang/julia/tree/03c072d725b6e2798347d00c9b46a3965edddaf8/base/dates/periods.jl#L230\" target=\"_blank\">dates/periods.jl:230</a><li> -(x::<b>Base.Dates.TimeType</b>, y::<b>Base.Dates.CompoundPeriod</b>) at <a href=\"https://github.com/JuliaLang/julia/tree/03c072d725b6e2798347d00c9b46a3965edddaf8/base/dates/periods.jl#L241\" target=\"_blank\">dates/periods.jl:241</a><li> -(x::<b>Base.Dates.CompoundPeriod</b>, y::<b>Base.Dates.TimeType</b>) at <a href=\"https://github.com/JuliaLang/julia/tree/03c072d725b6e2798347d00c9b46a3965edddaf8/base/dates/periods.jl#L246\" target=\"_blank\">dates/periods.jl:246</a><li> -<i>{T<:Base.Dates.Instant}</i>(x::<b>T<:Base.Dates.Instant</b>, y::<b>T<:Base.Dates.Instant</b>) at <a href=\"https://github.com/JuliaLang/julia/tree/03c072d725b6e2798347d00c9b46a3965edddaf8/base/dates/arithmetic.jl#L5\" target=\"_blank\">dates/arithmetic.jl:5</a><li> -<i>{T<:Base.Dates.TimeType}</i>(x::<b>T<:Base.Dates.TimeType</b>, y::<b>T<:Base.Dates.TimeType</b>) at <a href=\"https://github.com/JuliaLang/julia/tree/03c072d725b6e2798347d00c9b46a3965edddaf8/base/dates/arithmetic.jl#L9\" target=\"_blank\">dates/arithmetic.jl:9</a><li> -(y::<b>Base.Dates.Period</b>, x::<b>Base.Dates.TimeType</b>) at <a href=\"https://github.com/JuliaLang/julia/tree/03c072d725b6e2798347d00c9b46a3965edddaf8/base/dates/arithmetic.jl#L67\" target=\"_blank\">dates/arithmetic.jl:67</a><li> -<i>{T<:Base.Dates.TimeType}</i>(r::<b>Range{T<:Base.Dates.TimeType}</b>, x::<b>Base.Dates.Period</b>) at <a href=\"https://github.com/JuliaLang/julia/tree/03c072d725b6e2798347d00c9b46a3965edddaf8/base/dates/ranges.jl#L42\" target=\"_blank\">dates/ranges.jl:42</a><li> -<i>{T<:Base.Dates.TimeType}</i>(x::<b>AbstractArray{T<:Base.Dates.TimeType,N}</b>, y::<b>Union{Base.Dates.CompoundPeriod,Base.Dates.Period}</b>) at <a href=\"https://github.com/JuliaLang/julia/tree/03c072d725b6e2798347d00c9b46a3965edddaf8/base/dates/arithmetic.jl#L76\" target=\"_blank\">dates/arithmetic.jl:76</a><li> -<i>{T<:Base.Dates.TimeType}</i>(y::<b>Union{Base.Dates.CompoundPeriod,Base.Dates.Period}</b>, x::<b>AbstractArray{T<:Base.Dates.TimeType,N}</b>) at <a href=\"https://github.com/JuliaLang/julia/tree/03c072d725b6e2798347d00c9b46a3965edddaf8/base/dates/arithmetic.jl#L77\" target=\"_blank\">dates/arithmetic.jl:77</a><li> -<i>{P<:Union{Base.Dates.CompoundPeriod,Base.Dates.Period}}</i>(y::<b>Base.Dates.TimeType</b>, x::<b>Union{DenseArray{P<:Union{Base.Dates.CompoundPeriod,Base.Dates.Period},N},SubArray{P<:Union{Base.Dates.CompoundPeriod,Base.Dates.Period},N,A<:DenseArray{T,N},I<:Tuple{Vararg{Union{Colon,Int64,Range{Int64}}}},LD}}</b>) at <a href=\"https://github.com/JuliaLang/julia/tree/03c072d725b6e2798347d00c9b46a3965edddaf8/base/dates/arithmetic.jl#L84\" target=\"_blank\">dates/arithmetic.jl:84</a><li> -<i>{T<:Base.Dates.TimeType}</i>(x::<b>AbstractArray{T<:Base.Dates.TimeType,N}</b>, y::<b>T<:Base.Dates.TimeType</b>) at <a href=\"https://github.com/JuliaLang/julia/tree/03c072d725b6e2798347d00c9b46a3965edddaf8/base/dates/arithmetic.jl#L91\" target=\"_blank\">dates/arithmetic.jl:91</a><li> -<i>{T<:Base.Dates.TimeType}</i>(y::<b>T<:Base.Dates.TimeType</b>, x::<b>AbstractArray{T<:Base.Dates.TimeType,N}</b>) at <a href=\"https://github.com/JuliaLang/julia/tree/03c072d725b6e2798347d00c9b46a3965edddaf8/base/dates/arithmetic.jl#L92\" target=\"_blank\">dates/arithmetic.jl:92</a><li> -(p1::<b>Poli2Grado{T<:Real}</b>, p2::<b>Poli2Grado{T<:Real}</b>) at In[23]:2</ul>"
      ],
      "text/plain": [
       "# 205 methods for generic function \"-\":\n",
       "-(x::Bool) at bool.jl:34\n",
       "-(x::Bool, y::Bool) at bool.jl:37\n",
       "-(x::Int8) at int.jl:13\n",
       "-(x::Int8, y::Int8) at int.jl:18\n",
       "-(x::UInt8) at int.jl:13\n",
       "-(x::UInt8, y::UInt8) at int.jl:18\n",
       "-(x::Int16) at int.jl:13\n",
       "-(x::Int16, y::Int16) at int.jl:18\n",
       "-(x::UInt16) at int.jl:13\n",
       "-(x::UInt16, y::UInt16) at int.jl:18\n",
       "-(x::Int32) at int.jl:13\n",
       "-(x::Int32, y::Int32) at int.jl:18\n",
       "-(x::UInt32) at int.jl:13\n",
       "-(x::UInt32, y::UInt32) at int.jl:18\n",
       "-(x::Int64) at int.jl:13\n",
       "-(x::Int64, y::Int64) at int.jl:18\n",
       "-(x::UInt64) at int.jl:13\n",
       "-(x::UInt64, y::UInt64) at int.jl:18\n",
       "-(x::Int128) at int.jl:13\n",
       "-(x::Int128, y::Int128) at int.jl:18\n",
       "-(x::UInt128) at int.jl:13\n",
       "-(x::UInt128, y::UInt128) at int.jl:18\n",
       "-(x::Float32) at float.jl:204\n",
       "-(x::Float64) at float.jl:205\n",
       "-(x::Float32, y::Float32) at float.jl:209\n",
       "-(x::Float64, y::Float64) at float.jl:210\n",
       "-(z::Complex{Bool}, x::Bool) at complex.jl:121\n",
       "-(z::Complex{Bool}, x::Real) at complex.jl:139\n",
       "-(z::Complex{T<:Real}) at complex.jl:110\n",
       "-(z::Complex{T<:Real}, w::Complex{T<:Real}) at complex.jl:112\n",
       "-(x::Bool, z::Complex{Bool}) at complex.jl:120\n",
       "-(x::Bool, z::Complex{T<:Real}) at complex.jl:127\n",
       "-(z::Complex{T<:Real}, x::Bool) at complex.jl:128\n",
       "-{T<:Signed}(x::Rational{T<:Signed}) at rational.jl:167\n",
       "-{T<:Unsigned}(x::Rational{T<:Unsigned}) at rational.jl:171\n",
       "-(x::Rational{T<:Integer}) at rational.jl:165\n",
       "-(x::Float16) at float16.jl:133\n",
       "-(x::BigInt) at gmp.jl:342\n",
       "-(x::BigFloat) at mpfr.jl:403\n",
       "-(x::Irrational{sym}) at irrationals.jl:70\n",
       "-(x::Real, z::Complex{Bool}) at complex.jl:136\n",
       "-(x::Real, z::Complex{T<:Real}) at complex.jl:148\n",
       "-(z::Complex{T<:Real}, x::Real) at complex.jl:151\n",
       "-(x::Rational{T<:Integer}, y::Rational{T<:Integer}) at rational.jl:179\n",
       "-(a::Float16, b::Float16) at float16.jl:136\n",
       "-(x::BigInt, y::BigInt) at gmp.jl:256\n",
       "-(x::BigInt, c::Union{UInt16,UInt32,UInt64,UInt8}) at gmp.jl:311\n",
       "-(c::Union{UInt16,UInt32,UInt64,UInt8}, x::BigInt) at gmp.jl:316\n",
       "-(x::BigInt, c::Union{Int16,Int32,Int64,Int8}) at gmp.jl:322\n",
       "-(c::Union{Int16,Int32,Int64,Int8}, x::BigInt) at gmp.jl:323\n",
       "-(x::BigFloat, y::BigFloat) at mpfr.jl:251\n",
       "-(x::BigFloat, c::Union{UInt16,UInt32,UInt64,UInt8}) at mpfr.jl:258\n",
       "-(c::Union{UInt16,UInt32,UInt64,UInt8}, x::BigFloat) at mpfr.jl:263\n",
       "-(x::BigFloat, c::Union{Int16,Int32,Int64,Int8}) at mpfr.jl:270\n",
       "-(c::Union{Int16,Int32,Int64,Int8}, x::BigFloat) at mpfr.jl:275\n",
       "-(x::BigFloat, c::Union{Float16,Float32,Float64}) at mpfr.jl:282\n",
       "-(c::Union{Float16,Float32,Float64}, x::BigFloat) at mpfr.jl:287\n",
       "-(x::BigFloat, c::BigInt) at mpfr.jl:294\n",
       "-(c::BigInt, x::BigFloat) at mpfr.jl:303\n",
       "-(x::Irrational{sym}, y::Irrational{sym}) at irrationals.jl:72\n",
       "-{T<:Number}(x::T<:Number, y::T<:Number) at promotion.jl:213\n",
       "-(x::Number, y::Number) at promotion.jl:169\n",
       "-{T<:Base.Dates.TimeType}(x::OrdinalRange{T<:Base.Dates.TimeType,S}, y::OrdinalRange{T<:Base.Dates.TimeType,S}) at dates/arithmetic.jl:95\n",
       "-(r::OrdinalRange{T,S}) at range.jl:545\n",
       "-(r::FloatRange{T<:AbstractFloat}) at range.jl:546\n",
       "-(r::LinSpace{T<:AbstractFloat}) at range.jl:547\n",
       "-(r1::OrdinalRange{T,S}, r2::OrdinalRange{T,S}) at operators.jl:330\n",
       "-{T<:AbstractFloat}(r1::FloatRange{T<:AbstractFloat}, r2::FloatRange{T<:AbstractFloat}) at operators.jl:337\n",
       "-{T<:AbstractFloat}(r1::LinSpace{T<:AbstractFloat}, r2::LinSpace{T<:AbstractFloat}) at operators.jl:356\n",
       "-(r1::Union{FloatRange{T<:AbstractFloat},LinSpace{T<:AbstractFloat},OrdinalRange{T,S}}, r2::Union{FloatRange{T<:AbstractFloat},LinSpace{T<:AbstractFloat},OrdinalRange{T,S}}) at operators.jl:369\n",
       "-(x::Ptr{T}, y::Ptr{T}) at pointer.jl:73\n",
       "-(x::Ptr{T}, y::Integer) at pointer.jl:76\n",
       "-(B::BitArray{2}, J::UniformScaling{T<:Number}) at linalg/uniformscaling.jl:36\n",
       "-(B::BitArray{N}) at bitarray.jl:775\n",
       "-(A::BitArray{N}, B::BitArray{N}) at bitarray.jl:834\n",
       "-(A::Array{T,2}, B::Diagonal{T}) at linalg/special.jl:122\n",
       "-(A::Array{T,2}, B::Bidiagonal{T}) at linalg/special.jl:122\n",
       "-(A::Array{T,2}, B::Tridiagonal{T}) at linalg/special.jl:122\n",
       "-(A::Array{T,2}, B::SymTridiagonal{T}) at linalg/special.jl:131\n",
       "-(A::Array{T,2}, B::Base.LinAlg.AbstractTriangular{T,S<:AbstractArray{T,2}}) at linalg/special.jl:159\n",
       "-(A::Array{T,N}, B::SparseMatrixCSC{Tv,Ti<:Integer}) at sparse/sparsematrix.jl:1024\n",
       "-(A::Union{DenseArray{Bool,N},SubArray{Bool,N,A<:DenseArray{T,N},I<:Tuple{Vararg{Union{Colon,Int64,Range{Int64}}}},LD}}) at arraymath.jl:24\n",
       "-(A::Union{DenseArray{Bool,N},SubArray{Bool,N,A<:DenseArray{T,N},I<:Tuple{Vararg{Union{Colon,Int64,Range{Int64}}}},LD}}, B::Union{DenseArray{Bool,N},SubArray{Bool,N,A<:DenseArray{T,N},I<:Tuple{Vararg{Union{Colon,Int64,Range{Int64}}}},LD}}) at arraymath.jl:166\n",
       "-{P<:Union{Base.Dates.CompoundPeriod,Base.Dates.Period}}(Y::Union{DenseArray{P<:Union{Base.Dates.CompoundPeriod,Base.Dates.Period},N},SubArray{P<:Union{Base.Dates.CompoundPeriod,Base.Dates.Period},N,A<:DenseArray{T,N},I<:Tuple{Vararg{Union{Colon,Int64,Range{Int64}}}},LD}}, x::Union{Base.Dates.CompoundPeriod,Base.Dates.Period}) at dates/periods.jl:216\n",
       "-{P<:Union{Base.Dates.CompoundPeriod,Base.Dates.Period},Q<:Union{Base.Dates.CompoundPeriod,Base.Dates.Period}}(X::Union{DenseArray{P<:Union{Base.Dates.CompoundPeriod,Base.Dates.Period},N},SubArray{P<:Union{Base.Dates.CompoundPeriod,Base.Dates.Period},N,A<:DenseArray{T,N},I<:Tuple{Vararg{Union{Colon,Int64,Range{Int64}}}},LD}}, Y::Union{DenseArray{Q<:Union{Base.Dates.CompoundPeriod,Base.Dates.Period},N},SubArray{Q<:Union{Base.Dates.CompoundPeriod,Base.Dates.Period},N,A<:DenseArray{T,N},I<:Tuple{Vararg{Union{Colon,Int64,Range{Int64}}}},LD}}) at dates/periods.jl:217\n",
       "-{T<:Base.Dates.TimeType,P<:Union{Base.Dates.CompoundPeriod,Base.Dates.Period}}(x::Union{DenseArray{P<:Union{Base.Dates.CompoundPeriod,Base.Dates.Period},N},SubArray{P<:Union{Base.Dates.CompoundPeriod,Base.Dates.Period},N,A<:DenseArray{T,N},I<:Tuple{Vararg{Union{Colon,Int64,Range{Int64}}}},LD}}, y::T<:Base.Dates.TimeType) at dates/arithmetic.jl:83\n",
       "-(A::Union{DenseArray{T,N},SubArray{T,N,A<:DenseArray{T,N},I<:Tuple{Vararg{Union{Colon,Int64,Range{Int64}}}},LD}}) at arraymath.jl:15\n",
       "-{T<:Base.Dates.TimeType}(x::Range{T<:Base.Dates.TimeType}, y::Range{T<:Base.Dates.TimeType}) at dates/arithmetic.jl:96\n",
       "-{S,T}(A::Range{S}, B::Range{T}) at arraymath.jl:69\n",
       "-(A::LowerTriangular{T,S<:AbstractArray{T,2}}) at linalg/triangular.jl:282\n",
       "-(A::UpperTriangular{T,S<:AbstractArray{T,2}}) at linalg/triangular.jl:283\n",
       "-(A::Base.LinAlg.UnitLowerTriangular{T,S<:AbstractArray{T,2}}) at linalg/triangular.jl:285\n",
       "-(A::Base.LinAlg.UnitUpperTriangular{T,S<:AbstractArray{T,2}}) at linalg/triangular.jl:292\n",
       "-(A::Diagonal{T}) at linalg/diagonal.jl:85\n",
       "-(A::Bidiagonal{T}) at linalg/bidiag.jl:191\n",
       "-(A::SparseMatrixCSC{Tv,Ti<:Integer}) at sparse/sparsematrix.jl:674\n",
       "-{S,T}(A::AbstractArray{S,N}, B::Range{T}) at arraymath.jl:78\n",
       "-{S,T}(A::Range{S}, B::AbstractArray{T,N}) at arraymath.jl:87\n",
       "-(A::SymTridiagonal{T}, B::SymTridiagonal{T}) at linalg/tridiag.jl:85\n",
       "-(A::Tridiagonal{T}, B::Tridiagonal{T}) at linalg/tridiag.jl:405\n",
       "-(A::UpperTriangular{T,S<:AbstractArray{T,2}}, B::UpperTriangular{T,S<:AbstractArray{T,2}}) at linalg/triangular.jl:357\n",
       "-(A::LowerTriangular{T,S<:AbstractArray{T,2}}, B::LowerTriangular{T,S<:AbstractArray{T,2}}) at linalg/triangular.jl:358\n",
       "-(A::UpperTriangular{T,S<:AbstractArray{T,2}}, B::Base.LinAlg.UnitUpperTriangular{T,S<:AbstractArray{T,2}}) at linalg/triangular.jl:359\n",
       "-(A::LowerTriangular{T,S<:AbstractArray{T,2}}, B::Base.LinAlg.UnitLowerTriangular{T,S<:AbstractArray{T,2}}) at linalg/triangular.jl:360\n",
       "-(A::Base.LinAlg.UnitUpperTriangular{T,S<:AbstractArray{T,2}}, B::UpperTriangular{T,S<:AbstractArray{T,2}}) at linalg/triangular.jl:361\n",
       "-(A::Base.LinAlg.UnitLowerTriangular{T,S<:AbstractArray{T,2}}, B::LowerTriangular{T,S<:AbstractArray{T,2}}) at linalg/triangular.jl:362\n",
       "-(A::Base.LinAlg.UnitUpperTriangular{T,S<:AbstractArray{T,2}}, B::Base.LinAlg.UnitUpperTriangular{T,S<:AbstractArray{T,2}}) at linalg/triangular.jl:363\n",
       "-(A::Base.LinAlg.UnitLowerTriangular{T,S<:AbstractArray{T,2}}, B::Base.LinAlg.UnitLowerTriangular{T,S<:AbstractArray{T,2}}) at linalg/triangular.jl:364\n",
       "-(A::Base.LinAlg.AbstractTriangular{T,S<:AbstractArray{T,2}}, B::Base.LinAlg.AbstractTriangular{T,S<:AbstractArray{T,2}}) at linalg/triangular.jl:365\n",
       "-(Da::Diagonal{T}, Db::Diagonal{T}) at linalg/diagonal.jl:87\n",
       "-(A::Bidiagonal{T}, B::Bidiagonal{T}) at linalg/bidiag.jl:184\n",
       "-(A::Diagonal{T}, B::Bidiagonal{T}) at linalg/special.jl:121\n",
       "-(A::Bidiagonal{T}, B::Diagonal{T}) at linalg/special.jl:122\n",
       "-(A::Diagonal{T}, B::Tridiagonal{T}) at linalg/special.jl:121\n",
       "-(A::Tridiagonal{T}, B::Diagonal{T}) at linalg/special.jl:122\n",
       "-(A::Diagonal{T}, B::Array{T,2}) at linalg/special.jl:121\n",
       "-(A::Bidiagonal{T}, B::Tridiagonal{T}) at linalg/special.jl:121\n",
       "-(A::Tridiagonal{T}, B::Bidiagonal{T}) at linalg/special.jl:122\n",
       "-(A::Bidiagonal{T}, B::Array{T,2}) at linalg/special.jl:121\n",
       "-(A::Tridiagonal{T}, B::Array{T,2}) at linalg/special.jl:121\n",
       "-(A::SymTridiagonal{T}, B::Tridiagonal{T}) at linalg/special.jl:130\n",
       "-(A::Tridiagonal{T}, B::SymTridiagonal{T}) at linalg/special.jl:131\n",
       "-(A::SymTridiagonal{T}, B::Array{T,2}) at linalg/special.jl:130\n",
       "-(A::Diagonal{T}, B::SymTridiagonal{T}) at linalg/special.jl:139\n",
       "-(A::SymTridiagonal{T}, B::Diagonal{T}) at linalg/special.jl:140\n",
       "-(A::Bidiagonal{T}, B::SymTridiagonal{T}) at linalg/special.jl:139\n",
       "-(A::SymTridiagonal{T}, B::Bidiagonal{T}) at linalg/special.jl:140\n",
       "-(A::Diagonal{T}, B::UpperTriangular{T,S<:AbstractArray{T,2}}) at linalg/special.jl:151\n",
       "-(A::UpperTriangular{T,S<:AbstractArray{T,2}}, B::Diagonal{T}) at linalg/special.jl:152\n",
       "-(A::Diagonal{T}, B::Base.LinAlg.UnitUpperTriangular{T,S<:AbstractArray{T,2}}) at linalg/special.jl:151\n",
       "-(A::Base.LinAlg.UnitUpperTriangular{T,S<:AbstractArray{T,2}}, B::Diagonal{T}) at linalg/special.jl:152\n",
       "-(A::Diagonal{T}, B::LowerTriangular{T,S<:AbstractArray{T,2}}) at linalg/special.jl:151\n",
       "-(A::LowerTriangular{T,S<:AbstractArray{T,2}}, B::Diagonal{T}) at linalg/special.jl:152\n",
       "-(A::Diagonal{T}, B::Base.LinAlg.UnitLowerTriangular{T,S<:AbstractArray{T,2}}) at linalg/special.jl:151\n",
       "-(A::Base.LinAlg.UnitLowerTriangular{T,S<:AbstractArray{T,2}}, B::Diagonal{T}) at linalg/special.jl:152\n",
       "-(A::Base.LinAlg.AbstractTriangular{T,S<:AbstractArray{T,2}}, B::SymTridiagonal{T}) at linalg/special.jl:158\n",
       "-(A::SymTridiagonal{T}, B::Base.LinAlg.AbstractTriangular{T,S<:AbstractArray{T,2}}) at linalg/special.jl:159\n",
       "-(A::Base.LinAlg.AbstractTriangular{T,S<:AbstractArray{T,2}}, B::Tridiagonal{T}) at linalg/special.jl:158\n",
       "-(A::Tridiagonal{T}, B::Base.LinAlg.AbstractTriangular{T,S<:AbstractArray{T,2}}) at linalg/special.jl:159\n",
       "-(A::Base.LinAlg.AbstractTriangular{T,S<:AbstractArray{T,2}}, B::Bidiagonal{T}) at linalg/special.jl:158\n",
       "-(A::Bidiagonal{T}, B::Base.LinAlg.AbstractTriangular{T,S<:AbstractArray{T,2}}) at linalg/special.jl:159\n",
       "-(A::Base.LinAlg.AbstractTriangular{T,S<:AbstractArray{T,2}}, B::Array{T,2}) at linalg/special.jl:158\n",
       "-{Tv1,Ti1,Tv2,Ti2}(A_1::SparseMatrixCSC{Tv1,Ti1}, A_2::SparseMatrixCSC{Tv2,Ti2}) at sparse/sparsematrix.jl:1005\n",
       "-(A::SparseMatrixCSC{Tv,Ti<:Integer}, B::Array{T,N}) at sparse/sparsematrix.jl:1022\n",
       "-{S,T}(A::AbstractArray{S,N}, B::AbstractArray{T,N}) at arraymath.jl:96\n",
       "-(A::AbstractArray{Bool,N}, x::Bool) at arraymath.jl:137\n",
       "-(x::Bool, A::AbstractArray{Bool,N}) at arraymath.jl:138\n",
       "-(A::AbstractArray{T,N}, x::Number) at arraymath.jl:141\n",
       "-(x::Number, A::AbstractArray{T,N}) at arraymath.jl:142\n",
       "-(x::Char, y::Char) at char.jl:40\n",
       "-(x::Char, y::Integer) at char.jl:41\n",
       "-(a::Base.Grisu.Float, b::Base.Grisu.Float) at grisu/float.jl:133\n",
       "-{N}(index1::CartesianIndex{N}, index2::CartesianIndex{N}) at multidimensional.jl:42\n",
       "-(J::UniformScaling{T<:Number}) at linalg/uniformscaling.jl:34\n",
       "-(J1::UniformScaling{T<:Number}, J2::UniformScaling{T<:Number}) at linalg/uniformscaling.jl:35\n",
       "-(J::UniformScaling{T<:Number}, B::BitArray{2}) at linalg/uniformscaling.jl:37\n",
       "-(J::UniformScaling{T<:Number}, x::Number) at linalg/uniformscaling.jl:38\n",
       "-(x::Number, J::UniformScaling{T<:Number}) at linalg/uniformscaling.jl:39\n",
       "-(UL::UpperTriangular{T,S<:AbstractArray{T,2}}, J::UniformScaling{T<:Number}) at linalg/uniformscaling.jl:45\n",
       "-(UL::Base.LinAlg.UnitUpperTriangular{T,S<:AbstractArray{T,2}}, J::UniformScaling{T<:Number}) at linalg/uniformscaling.jl:48\n",
       "-(UL::LowerTriangular{T,S<:AbstractArray{T,2}}, J::UniformScaling{T<:Number}) at linalg/uniformscaling.jl:45\n",
       "-(UL::Base.LinAlg.UnitLowerTriangular{T,S<:AbstractArray{T,2}}, J::UniformScaling{T<:Number}) at linalg/uniformscaling.jl:48\n",
       "-(J::UniformScaling{T<:Number}, UL::Union{Base.LinAlg.UnitUpperTriangular{T,S<:AbstractArray{T,2}},UpperTriangular{T,S<:AbstractArray{T,2}}}) at linalg/uniformscaling.jl:59\n",
       "-(J::UniformScaling{T<:Number}, UL::Union{Base.LinAlg.UnitLowerTriangular{T,S<:AbstractArray{T,2}},LowerTriangular{T,S<:AbstractArray{T,2}}}) at linalg/uniformscaling.jl:75\n",
       "-(A::SparseMatrixCSC{Tv,Ti<:Integer}, J::UniformScaling{T<:Number}) at sparse/sparsematrix.jl:2989\n",
       "-{TA,TJ<:Number}(A::AbstractArray{TA,2}, J::UniformScaling{TJ<:Number}) at linalg/uniformscaling.jl:102\n",
       "-(J::UniformScaling{T<:Number}, A::SparseMatrixCSC{Tv,Ti<:Integer}) at sparse/sparsematrix.jl:2990\n",
       "-{TA,TJ<:Number}(J::UniformScaling{TJ<:Number}, A::AbstractArray{TA,2}) at linalg/uniformscaling.jl:111\n",
       "-{T}(a::Base.Pkg.Resolve.VersionWeights.HierarchicalValue{T}, b::Base.Pkg.Resolve.VersionWeights.HierarchicalValue{T}) at pkg/resolve/versionweight.jl:23\n",
       "-{T}(a::Base.Pkg.Resolve.VersionWeights.HierarchicalValue{T}) at pkg/resolve/versionweight.jl:45\n",
       "-(a::Base.Pkg.Resolve.VersionWeights.VWPreBuildItem) at pkg/resolve/versionweight.jl:87\n",
       "-(a::Base.Pkg.Resolve.VersionWeights.VWPreBuildItem, b::Base.Pkg.Resolve.VersionWeights.VWPreBuildItem) at pkg/resolve/versionweight.jl:84\n",
       "-(a::Base.Pkg.Resolve.VersionWeights.VWPreBuild) at pkg/resolve/versionweight.jl:137\n",
       "-(a::Base.Pkg.Resolve.VersionWeights.VWPreBuild, b::Base.Pkg.Resolve.VersionWeights.VWPreBuild) at pkg/resolve/versionweight.jl:126\n",
       "-(a::Base.Pkg.Resolve.VersionWeights.VersionWeight) at pkg/resolve/versionweight.jl:190\n",
       "-(a::Base.Pkg.Resolve.VersionWeights.VersionWeight, b::Base.Pkg.Resolve.VersionWeights.VersionWeight) at pkg/resolve/versionweight.jl:180\n",
       "-(a::Base.Pkg.Resolve.MaxSum.FieldValues.FieldValue, b::Base.Pkg.Resolve.MaxSum.FieldValues.FieldValue) at pkg/resolve/fieldvalue.jl:43\n",
       "-{P<:Base.Dates.Period}(x::P<:Base.Dates.Period) at dates/periods.jl:36\n",
       "-{P<:Base.Dates.Period}(x::P<:Base.Dates.Period, y::P<:Base.Dates.Period) at dates/periods.jl:43\n",
       "-(x::Base.Dates.Period, y::Base.Dates.Period) at dates/periods.jl:195\n",
       "-(x::Base.Dates.CompoundPeriod) at dates/periods.jl:197\n",
       "-(x::Base.Dates.CompoundPeriod, y::Base.Dates.Period) at dates/periods.jl:196\n",
       "-(y::Union{Base.Dates.CompoundPeriod,Base.Dates.Period}, x::Base.Dates.CompoundPeriod) at dates/periods.jl:198\n",
       "-{P<:Union{Base.Dates.CompoundPeriod,Base.Dates.Period}}(x::Union{Base.Dates.CompoundPeriod,Base.Dates.Period}, Y::Union{DenseArray{P<:Union{Base.Dates.CompoundPeriod,Base.Dates.Period},N},SubArray{P<:Union{Base.Dates.CompoundPeriod,Base.Dates.Period},N,A<:DenseArray{T,N},I<:Tuple{Vararg{Union{Colon,Int64,Range{Int64}}}},LD}}) at dates/periods.jl:215\n",
       "-(dt::DateTime, y::Base.Dates.Year) at dates/arithmetic.jl:21\n",
       "-(dt::Date, y::Base.Dates.Year) at dates/arithmetic.jl:25\n",
       "-(dt::DateTime, z::Base.Dates.Month) at dates/arithmetic.jl:49\n",
       "-(dt::Date, z::Base.Dates.Month) at dates/arithmetic.jl:55\n",
       "-(x::Date, y::Base.Dates.Week) at dates/arithmetic.jl:61\n",
       "-(x::Date, y::Base.Dates.Day) at dates/arithmetic.jl:63\n",
       "-(x::DateTime, y::Base.Dates.Period) at dates/arithmetic.jl:65\n",
       "-(a::Base.Dates.TimeType, b::Base.Dates.Period, c::Base.Dates.Period) at dates/periods.jl:228\n",
       "-(a::Base.Dates.TimeType, b::Base.Dates.Period, c::Base.Dates.Period, d::Base.Dates.Period...) at dates/periods.jl:230\n",
       "-(x::Base.Dates.TimeType, y::Base.Dates.CompoundPeriod) at dates/periods.jl:241\n",
       "-(x::Base.Dates.CompoundPeriod, y::Base.Dates.TimeType) at dates/periods.jl:246\n",
       "-{T<:Base.Dates.Instant}(x::T<:Base.Dates.Instant, y::T<:Base.Dates.Instant) at dates/arithmetic.jl:5\n",
       "-{T<:Base.Dates.TimeType}(x::T<:Base.Dates.TimeType, y::T<:Base.Dates.TimeType) at dates/arithmetic.jl:9\n",
       "-(y::Base.Dates.Period, x::Base.Dates.TimeType) at dates/arithmetic.jl:67\n",
       "-{T<:Base.Dates.TimeType}(r::Range{T<:Base.Dates.TimeType}, x::Base.Dates.Period) at dates/ranges.jl:42\n",
       "-{T<:Base.Dates.TimeType}(x::AbstractArray{T<:Base.Dates.TimeType,N}, y::Union{Base.Dates.CompoundPeriod,Base.Dates.Period}) at dates/arithmetic.jl:76\n",
       "-{T<:Base.Dates.TimeType}(y::Union{Base.Dates.CompoundPeriod,Base.Dates.Period}, x::AbstractArray{T<:Base.Dates.TimeType,N}) at dates/arithmetic.jl:77\n",
       "-{P<:Union{Base.Dates.CompoundPeriod,Base.Dates.Period}}(y::Base.Dates.TimeType, x::Union{DenseArray{P<:Union{Base.Dates.CompoundPeriod,Base.Dates.Period},N},SubArray{P<:Union{Base.Dates.CompoundPeriod,Base.Dates.Period},N,A<:DenseArray{T,N},I<:Tuple{Vararg{Union{Colon,Int64,Range{Int64}}}},LD}}) at dates/arithmetic.jl:84\n",
       "-{T<:Base.Dates.TimeType}(x::AbstractArray{T<:Base.Dates.TimeType,N}, y::T<:Base.Dates.TimeType) at dates/arithmetic.jl:91\n",
       "-{T<:Base.Dates.TimeType}(y::T<:Base.Dates.TimeType, x::AbstractArray{T<:Base.Dates.TimeType,N}) at dates/arithmetic.jl:92\n",
       "-(p1::Poli2Grado{T<:Real}, p2::Poli2Grado{T<:Real}) at In[23]:2"
      ]
     },
     "execution_count": 24,
     "metadata": {},
     "output_type": "execute_result"
    }
   ],
   "source": [
    "methods(-)"
   ]
  },
  {
   "cell_type": "code",
   "execution_count": 25,
   "metadata": {
    "collapsed": false
   },
   "outputs": [
    {
     "data": {
      "text/plain": [
       "Poli2Grado{Float64}(2.0,1.0,0.0)"
      ]
     },
     "execution_count": 25,
     "metadata": {},
     "output_type": "execute_result"
    }
   ],
   "source": [
    "polinomio1 = Poli2Grado(1.0,1.0,0.0)\n",
    "polinomio2 = Poli2Grado(2.0,1.0,0.0)"
   ]
  },
  {
   "cell_type": "code",
   "execution_count": 26,
   "metadata": {
    "collapsed": false
   },
   "outputs": [
    {
     "data": {
      "text/plain": [
       "Poli2Grado{Float64}(3.0,2.0,0.0)"
      ]
     },
     "execution_count": 26,
     "metadata": {},
     "output_type": "execute_result"
    }
   ],
   "source": [
    "polinomio1 + polinomio2"
   ]
  },
  {
   "cell_type": "code",
   "execution_count": 27,
   "metadata": {
    "collapsed": false
   },
   "outputs": [
    {
     "data": {
      "text/plain": [
       "Poli2Grado{Float64}(-1.0,0.0,0.0)"
      ]
     },
     "execution_count": 27,
     "metadata": {},
     "output_type": "execute_result"
    }
   ],
   "source": [
    "polinomio1 - polinomio2"
   ]
  },
  {
   "cell_type": "code",
   "execution_count": 28,
   "metadata": {
    "collapsed": false
   },
   "outputs": [
    {
     "data": {
      "text/plain": [
       "* (generic function with 139 methods)"
      ]
     },
     "execution_count": 28,
     "metadata": {},
     "output_type": "execute_result"
    }
   ],
   "source": [
    "*(a::Real, p::Poli2Grado) = Poli2Grado(a*p.a,a*p.b,a*p.c)\n"
   ]
  },
  {
   "cell_type": "code",
   "execution_count": 32,
   "metadata": {
    "collapsed": false
   },
   "outputs": [
    {
     "data": {
      "text/plain": [
       "* (generic function with 140 methods)"
      ]
     },
     "execution_count": 32,
     "metadata": {},
     "output_type": "execute_result"
    }
   ],
   "source": [
    "*(p::Poli2Grado, a::Real) = *(a,p)"
   ]
  },
  {
   "cell_type": "code",
   "execution_count": 33,
   "metadata": {
    "collapsed": false
   },
   "outputs": [
    {
     "data": {
      "text/plain": [
       "Poli2Grado{Float64}(2.0,2.0,0.0)"
      ]
     },
     "execution_count": 33,
     "metadata": {},
     "output_type": "execute_result"
    }
   ],
   "source": [
    "*(2.0,polinomio1)"
   ]
  },
  {
   "cell_type": "code",
   "execution_count": 34,
   "metadata": {
    "collapsed": false
   },
   "outputs": [
    {
     "data": {
      "text/plain": [
       "Poli2Grado{Float64}(2.0,2.0,0.0)"
      ]
     },
     "execution_count": 34,
     "metadata": {},
     "output_type": "execute_result"
    }
   ],
   "source": [
    "2.0*polinomio1"
   ]
  },
  {
   "cell_type": "code",
   "execution_count": 35,
   "metadata": {
    "collapsed": false
   },
   "outputs": [
    {
     "data": {
      "text/plain": [
       "Poli2Grado{Float64}(5.0,5.0,0.0)"
      ]
     },
     "execution_count": 35,
     "metadata": {},
     "output_type": "execute_result"
    }
   ],
   "source": [
    "polinomio1*5.0"
   ]
  },
  {
   "cell_type": "code",
   "execution_count": null,
   "metadata": {
    "collapsed": true
   },
   "outputs": [],
   "source": []
  }
 ],
 "metadata": {
  "kernelspec": {
   "display_name": "Julia 0.4.6-pre",
   "language": "julia",
   "name": "julia-0.4"
  },
  "language_info": {
   "file_extension": ".jl",
   "mimetype": "application/julia",
   "name": "julia",
   "version": "0.4.6"
  }
 },
 "nbformat": 4,
 "nbformat_minor": 0
}

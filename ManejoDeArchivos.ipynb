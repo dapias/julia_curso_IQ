{
 "cells": [
  {
   "cell_type": "markdown",
   "metadata": {},
   "source": [
    "# Manejo de archivos en Julia"
   ]
  },
  {
   "cell_type": "markdown",
   "metadata": {},
   "source": [
    "* [Trabajando con archivos de texto](https://en.wikibooks.org/wiki/Introducing_Julia/Working_with_text_files)\n",
    "\n",
    "\n",
    "### Abrir el archivo"
   ]
  },
  {
   "cell_type": "code",
   "execution_count": 5,
   "metadata": {
    "collapsed": false
   },
   "outputs": [
    {
     "data": {
      "text/plain": [
       "IOStream(<file shenlong.txt>)"
      ]
     },
     "execution_count": 5,
     "metadata": {},
     "output_type": "execute_result"
    }
   ],
   "source": [
    "f = open(\"shenlong.txt\")"
   ]
  },
  {
   "cell_type": "markdown",
   "metadata": {},
   "source": [
    "Podemos leer el contenido del archivo complreto con `readall()`"
   ]
  },
  {
   "cell_type": "code",
   "execution_count": 6,
   "metadata": {
    "collapsed": false
   },
   "outputs": [
    {
     "data": {
      "text/plain": [
       "\"Shenlong es un dragón espiritual chino y \\njaponés que controla la lluvia y el viento.\\n\\nEste gigante que volaba en el cielo y debido \\na su color azul que cambiaba constantemente \\nera difícil de ver con claridad. Shenlong \\nrige el viento, la lluvia y las nubes de las \\ncuales dependía su agricultura. El pueblo \\nchino tomó gran cuidado para evitar ofenderlo \\ny que no se sintiese descuidado, si no el \\nresultado sería mal tiempo, sequía, \\ninundaciones o tormentas.\""
      ]
     },
     "execution_count": 6,
     "metadata": {},
     "output_type": "execute_result"
    }
   ],
   "source": [
    "s = readall(f)"
   ]
  },
  {
   "cell_type": "code",
   "execution_count": 29,
   "metadata": {
    "collapsed": true
   },
   "outputs": [],
   "source": [
    "close(f)"
   ]
  },
  {
   "cell_type": "markdown",
   "metadata": {},
   "source": [
    "O podemos usar `readlines()` para leer en todo el archivo como un arreglo"
   ]
  },
  {
   "cell_type": "code",
   "execution_count": 8,
   "metadata": {
    "collapsed": false
   },
   "outputs": [
    {
     "data": {
      "text/plain": [
       "IOStream(<file shenlong.txt>)"
      ]
     },
     "execution_count": 8,
     "metadata": {},
     "output_type": "execute_result"
    }
   ],
   "source": [
    "h = open(\"shenlong.txt\")"
   ]
  },
  {
   "cell_type": "code",
   "execution_count": 9,
   "metadata": {
    "collapsed": false
   },
   "outputs": [
    {
     "data": {
      "text/plain": [
       "12-element Array{ByteString,1}:\n",
       " \"Shenlong es un dragón espiritual chino y \\n\"     \n",
       " \"japonés que controla la lluvia y el viento.\\n\"   \n",
       " \"\\n\"                                              \n",
       " \"Este gigante que volaba en el cielo y debido \\n\" \n",
       " \"a su color azul que cambiaba constantemente \\n\"  \n",
       " \"era difícil de ver con claridad. Shenlong \\n\"    \n",
       " \"rige el viento, la lluvia y las nubes de las \\n\" \n",
       " \"cuales dependía su agricultura. El pueblo \\n\"    \n",
       " \"chino tomó gran cuidado para evitar ofenderlo \\n\"\n",
       " \"y que no se sintiese descuidado, si no el \\n\"    \n",
       " \"resultado sería mal tiempo, sequía, \\n\"          \n",
       " \"inundaciones o tormentas.\"                       "
      ]
     },
     "execution_count": 9,
     "metadata": {},
     "output_type": "execute_result"
    }
   ],
   "source": [
    "lines = readlines(h)"
   ]
  },
  {
   "cell_type": "code",
   "execution_count": 28,
   "metadata": {
    "collapsed": true
   },
   "outputs": [],
   "source": [
    "close(h)"
   ]
  },
  {
   "cell_type": "markdown",
   "metadata": {},
   "source": [
    "Ahora podemos iterar sobre el arreglo"
   ]
  },
  {
   "cell_type": "code",
   "execution_count": 11,
   "metadata": {
    "collapsed": false
   },
   "outputs": [
    {
     "name": "stdout",
     "output_type": "stream",
     "text": [
      "Shenlong es un dragón espiritual chino y \n",
      "\n",
      "japonés que controla la lluvia y el viento.\n",
      "\n",
      "\n",
      "\n",
      "Este gigante que volaba en el cielo y debido \n",
      "\n",
      "a su color azul que cambiaba constantemente \n",
      "\n",
      "era difícil de ver con claridad. Shenlong \n",
      "\n",
      "rige el viento, la lluvia y las nubes de las \n",
      "\n",
      "cuales dependía su agricultura. El pueblo \n",
      "\n",
      "chino tomó gran cuidado para evitar ofenderlo \n",
      "\n",
      "y que no se sintiese descuidado, si no el \n",
      "\n",
      "resultado sería mal tiempo, sequía, \n",
      "\n",
      "inundaciones o tormentas.\n"
     ]
    }
   ],
   "source": [
    "for i in lines\n",
    "    println(\"$i\")\n",
    "end"
   ]
  },
  {
   "cell_type": "markdown",
   "metadata": {},
   "source": [
    "Podemos controlar la terminal desde Julia"
   ]
  },
  {
   "cell_type": "code",
   "execution_count": 18,
   "metadata": {
    "collapsed": false
   },
   "outputs": [
    {
     "name": "stdout",
     "output_type": "stream",
     "text": [
      "EjerciciosDeAlgebraLineal.ipynb\n",
      "GraficaciónPyPlot.ipynb\n",
      "graficas_caminante.ipynb\n",
      "Instalación.ipynb\n",
      "JupyterNotebook.ipynb\n",
      "ManejoDeArchivos.ipynb\n",
      "Motivación.ipynb\n",
      "productopunto.ipynb\n",
      "ProductoPunto.jl\n",
      "README.md\n",
      "Sesión01.ipynb\n",
      "Sesión02.ipynb\n",
      "Sesion03.ipynb\n",
      "Sesion04.ipynb\n",
      "shenlong.txt\n",
      "TemasAvanzados.ipynb\n"
     ]
    }
   ],
   "source": [
    "run(`ls`)"
   ]
  },
  {
   "cell_type": "markdown",
   "metadata": {},
   "source": [
    "Esto nos puede ayudar en la generación dinámica de archivos.\n",
    "\n",
    "Más adelante veremos ejemplos de esto."
   ]
  },
  {
   "cell_type": "markdown",
   "metadata": {},
   "source": [
    "### Escribiendo a un archivo de texto.\n",
    "\n",
    "Podemos usar banderas al abrir el archivo como **w** y **a**."
   ]
  },
  {
   "cell_type": "code",
   "execution_count": 70,
   "metadata": {
    "collapsed": false
   },
   "outputs": [
    {
     "data": {
      "text/plain": [
       "IOStream(<file dragon.txt>)"
      ]
     },
     "execution_count": 70,
     "metadata": {},
     "output_type": "execute_result"
    }
   ],
   "source": [
    "f = open(\"dragon.txt\",\"w\")"
   ]
  },
  {
   "cell_type": "code",
   "execution_count": 71,
   "metadata": {
    "collapsed": false
   },
   "outputs": [
    {
     "data": {
      "text/plain": [
       "6"
      ]
     },
     "execution_count": 71,
     "metadata": {},
     "output_type": "execute_result"
    }
   ],
   "source": [
    "write(f,\"Hola.\\n\")"
   ]
  },
  {
   "cell_type": "code",
   "execution_count": 72,
   "metadata": {
    "collapsed": false
   },
   "outputs": [
    {
     "name": "stdout",
     "output_type": "stream",
     "text": [
      "Hola.\n"
     ]
    }
   ],
   "source": [
    "close(f)\n",
    "\n",
    "run(`cat dragon.txt`)"
   ]
  },
  {
   "cell_type": "code",
   "execution_count": 73,
   "metadata": {
    "collapsed": false
   },
   "outputs": [
    {
     "data": {
      "text/plain": [
       "IOStream(<file dragon.txt>)"
      ]
     },
     "execution_count": 73,
     "metadata": {},
     "output_type": "execute_result"
    }
   ],
   "source": [
    "f = open(\"dragon.txt\",\"w\")"
   ]
  },
  {
   "cell_type": "markdown",
   "metadata": {},
   "source": [
    "Y podemos escribir usando `write()`"
   ]
  },
  {
   "cell_type": "code",
   "execution_count": 74,
   "metadata": {
    "collapsed": false
   },
   "outputs": [
    {
     "data": {
      "text/plain": [
       "469"
      ]
     },
     "execution_count": 74,
     "metadata": {},
     "output_type": "execute_result"
    }
   ],
   "source": [
    "write(f,lines)"
   ]
  },
  {
   "cell_type": "code",
   "execution_count": 75,
   "metadata": {
    "collapsed": true
   },
   "outputs": [],
   "source": [
    "run(`cat dragon.txt`)"
   ]
  },
  {
   "cell_type": "code",
   "execution_count": 76,
   "metadata": {
    "collapsed": true
   },
   "outputs": [],
   "source": [
    "close(f)"
   ]
  },
  {
   "cell_type": "code",
   "execution_count": 77,
   "metadata": {
    "collapsed": false
   },
   "outputs": [
    {
     "name": "stdout",
     "output_type": "stream",
     "text": [
      "Shenlong es un dragón espiritual chino y \n",
      "japonés que controla la lluvia y el viento.\n",
      "\n",
      "Este gigante que volaba en el cielo y debido \n",
      "a su color azul que cambiaba constantemente \n",
      "era difícil de ver con claridad. Shenlong \n",
      "rige el viento, la lluvia y las nubes de las \n",
      "cuales dependía su agricultura. El pueblo \n",
      "chino tomó gran cuidado para evitar ofenderlo \n",
      "y que no se sintiese descuidado, si no el \n",
      "resultado sería mal tiempo, sequía, \n",
      "inundaciones o tormentas."
     ]
    }
   ],
   "source": [
    "run(`cat dragon.txt`)"
   ]
  },
  {
   "cell_type": "code",
   "execution_count": 78,
   "metadata": {
    "collapsed": false
   },
   "outputs": [
    {
     "data": {
      "text/plain": [
       "IOStream(<file dragon.txt>)"
      ]
     },
     "execution_count": 78,
     "metadata": {},
     "output_type": "execute_result"
    }
   ],
   "source": [
    "f = open(\"dragon.txt\",\"a\")"
   ]
  },
  {
   "cell_type": "code",
   "execution_count": 79,
   "metadata": {
    "collapsed": false
   },
   "outputs": [],
   "source": [
    "write(f,\"\\nTambién sale en Dragon Ball\\n\")\n",
    "close(f)"
   ]
  },
  {
   "cell_type": "code",
   "execution_count": 80,
   "metadata": {
    "collapsed": false
   },
   "outputs": [
    {
     "name": "stdout",
     "output_type": "stream",
     "text": [
      "Shenlong es un dragón espiritual chino y \n",
      "japonés que controla la lluvia y el viento.\n",
      "\n",
      "Este gigante que volaba en el cielo y debido \n",
      "a su color azul que cambiaba constantemente \n",
      "era difícil de ver con claridad. Shenlong \n",
      "rige el viento, la lluvia y las nubes de las \n",
      "cuales dependía su agricultura. El pueblo \n",
      "chino tomó gran cuidado para evitar ofenderlo \n",
      "y que no se sintiese descuidado, si no el \n",
      "resultado sería mal tiempo, sequía, \n",
      "inundaciones o tormentas.\n",
      "También sale en Dragon Ball\n"
     ]
    }
   ],
   "source": [
    "run(`cat dragon.txt`)"
   ]
  },
  {
   "cell_type": "markdown",
   "metadata": {},
   "source": [
    "## Escribiendo datos numéricos a un archivo"
   ]
  },
  {
   "cell_type": "code",
   "execution_count": 89,
   "metadata": {
    "collapsed": false
   },
   "outputs": [
    {
     "data": {
      "text/plain": [
       "10x10 Array{Float64,2}:\n",
       " 0.825357  0.456452   0.330179   0.0167279  …  0.0378886  0.976968  0.107945\n",
       " 0.635969  0.976891   0.983299   0.986755      0.823307   0.398323  0.129149\n",
       " 0.204055  0.0550169  0.808021   0.147329      0.78988    0.61208   0.335653\n",
       " 0.354519  0.217227   0.997803   0.197529      0.817859   0.376121  0.935334\n",
       " 0.218309  0.32358    0.795834   0.66012       0.529724   0.584886  0.304312\n",
       " 0.562043  0.868849   0.0883894  0.852448   …  0.986348   0.816943  0.58566 \n",
       " 0.641216  0.953319   0.645793   0.204688      0.346662   0.341147  0.230495\n",
       " 0.394225  0.385007   0.946916   0.92819       0.978069   0.940092  0.610562\n",
       " 0.131388  0.450881   0.0453735  0.704059      0.926537   0.130338  0.567808\n",
       " 0.611152  0.282723   0.804085   0.171858      0.574114   0.581393  0.556885"
      ]
     },
     "execution_count": 89,
     "metadata": {},
     "output_type": "execute_result"
    }
   ],
   "source": [
    "f = open(\"datos.txt\", \"w\")\n",
    "\n",
    "matriz = rand(10,10)"
   ]
  },
  {
   "cell_type": "code",
   "execution_count": 90,
   "metadata": {
    "collapsed": true
   },
   "outputs": [],
   "source": [
    "writedlm(f,matriz)"
   ]
  },
  {
   "cell_type": "code",
   "execution_count": 92,
   "metadata": {
    "collapsed": false
   },
   "outputs": [
    {
     "name": "stdout",
     "output_type": "stream",
     "text": [
      ".8253574748975723\t.4564521824433305\t.3301792579158287\t.016727919484279097\t.6222589418934086\t.7536700759959807\t.2721058732977031\t.03788863695976774\t.9769682587032336\t.10794502591472432\n",
      ".6359685448955037\t.9768913008936599\t.9832992732870871\t.9867548318852486\t.32295240035606176\t.5168932612644721\t.2374651592786574\t.8233071523731017\t.39832341121591464\t.12914871618715718\n",
      ".2040552272011955\t.05501686387186133\t.8080214219322188\t.14732936781716188\t.2992805445466853\t.7133389724229697\t.1043601193724879\t.7898797992135276\t.612080079763855\t.3356534747559552\n",
      ".3545190372935403\t.21722659040968129\t.99780265373105\t.19752948572493367\t.7196774621286377\t.508331947912738\t.1865805432119152\t.8178587170301868\t.3761212005831187\t.9353337625059455\n",
      ".21830910836017536\t.3235804651819727\t.7958344238246264\t.6601204013093434\t.6616650676895341\t.9065865538807987\t.5995558959884248\t.5297235906620812\t.5848859299570046\t.30431225289219954\n",
      ".5620428776277291\t.8688485144535951\t.08838936325130664\t.8524481665858432\t.08291268555385689\t.05184390781973436\t.5430535289712892\t.986347875491405\t.8169428930471208\t.5856601381844675\n",
      ".6412162215271162\t.9533187989154102\t.6457928267926805\t.20468848279218776\t.8588199859429855\t.5019955070166771\t.4061559793327152\t.34666190015171683\t.34114700019809585\t.23049451685504696\n",
      ".39422465408491836\t.38500685681331004\t.9469159429275009\t.928189598830722\t.9589683595552538\t.6704212546771613\t.33476610886398195\t.9780687178759975\t.9400921519722882\t.6105616152246272\n",
      ".1313881306749798\t.45088148101072534\t.04537351332893946\t.7040590681945145\t.5669214859171334\t.6031540735734782\t.4410317514013944\t.9265373467023994\t.1303376659590647\t.5678075876163506\n",
      ".6111523159367069\t.2827233064524508\t.8040851713309773\t.17185766570949612\t.27527325311930007\t.18527742847478645\t.43121344739155565\t.5741137702242323\t.5813927218229615\t.5568853370413194\n"
     ]
    }
   ],
   "source": [
    "close(f)\n",
    "\n",
    "run(`cat datos.txt`)"
   ]
  },
  {
   "cell_type": "markdown",
   "metadata": {},
   "source": [
    "## Leer datos numéricos de un archivo"
   ]
  },
  {
   "cell_type": "code",
   "execution_count": 93,
   "metadata": {
    "collapsed": false
   },
   "outputs": [
    {
     "data": {
      "text/plain": [
       "10x10 Array{Float64,2}:\n",
       " 0.812825   0.691951  0.780387  0.916727   …  0.530345   0.320089   0.788679\n",
       " 0.0350968  0.894723  0.437469  0.550169      0.429326   0.892401   0.277552\n",
       " 0.717879   0.333187  0.826185  0.910719      0.0330725  0.387276   0.498028\n",
       " 0.358374   0.537868  0.888625  0.0413026     0.277362   0.214023   0.16935 \n",
       " 0.889497   0.368922  0.433811  0.107346      0.997477   0.162197   0.531711\n",
       " 0.0907915  0.210218  0.2944    0.383769   …  0.346494   0.198721   0.671229\n",
       " 0.69824    0.202799  0.269873  0.193211      0.78574    0.8564     0.722088\n",
       " 0.582996   0.369596  0.29786   0.911692      0.239698   0.0600273  0.590265\n",
       " 0.251633   0.760459  0.93322   0.0725418     0.638846   0.399917   0.959482\n",
       " 0.262744   0.877058  0.769328  0.35259       0.324299   0.799088   0.727207"
      ]
     },
     "execution_count": 93,
     "metadata": {},
     "output_type": "execute_result"
    }
   ],
   "source": [
    "matrizAleatoria = readdlm(\"datos.txt\")"
   ]
  },
  {
   "cell_type": "markdown",
   "metadata": {},
   "source": [
    "**Funciona sin tener que usar `open()`**"
   ]
  },
  {
   "cell_type": "markdown",
   "metadata": {},
   "source": [
    "**Ejercicio:** genere 10 caminatas aleatorias de 100 pasos y guarde cada una de ellas en un archivo diferente, utilice el "
   ]
  }
 ],
 "metadata": {
  "kernelspec": {
   "display_name": "Julia 0.4.2",
   "language": "julia",
   "name": "julia-0.4"
  },
  "language_info": {
   "file_extension": ".jl",
   "mimetype": "application/julia",
   "name": "julia",
   "version": "0.4.5"
  }
 },
 "nbformat": 4,
 "nbformat_minor": 0
}
